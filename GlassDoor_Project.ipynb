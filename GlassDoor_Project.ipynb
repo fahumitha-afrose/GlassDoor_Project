{
  "nbformat": 4,
  "nbformat_minor": 0,
  "metadata": {
    "colab": {
      "provenance": []
    },
    "kernelspec": {
      "name": "python3",
      "display_name": "Python 3"
    },
    "language_info": {
      "name": "python"
    }
  },
  "cells": [
    {
      "cell_type": "markdown",
      "source": [
        "**Import necessary libraries**"
      ],
      "metadata": {
        "id": "efyUu3bqIxnK"
      }
    },
    {
      "cell_type": "code",
      "execution_count": 85,
      "metadata": {
        "id": "J4YpWsOTFVST"
      },
      "outputs": [],
      "source": [
        "import pandas as pd\n",
        "import seaborn as sns\n",
        "import matplotlib.pyplot as plt\n",
        "from sklearn.model_selection import train_test_split\n",
        "from sklearn.ensemble import RandomForestRegressor\n",
        "from sklearn.metrics import mean_absolute_error, mean_squared_error, r2_score\n",
        "import numpy as np"
      ]
    },
    {
      "cell_type": "markdown",
      "source": [
        "**Load dataset**"
      ],
      "metadata": {
        "id": "I6gegU-iJM-i"
      }
    },
    {
      "cell_type": "code",
      "source": [
        "df = pd.read_csv('glassdoor_jobs.csv')"
      ],
      "metadata": {
        "id": "1VHd-EeSGh_r"
      },
      "execution_count": 86,
      "outputs": []
    },
    {
      "cell_type": "markdown",
      "source": [
        "**Display initial data insights**"
      ],
      "metadata": {
        "id": "fqdPidxmJTNX"
      }
    },
    {
      "cell_type": "code",
      "source": [
        "df.head()\n"
      ],
      "metadata": {
        "colab": {
          "base_uri": "https://localhost:8080/",
          "height": 521
        },
        "id": "78vwQvt2GnU3",
        "outputId": "cef8e0a6-85f3-4040-ba3b-f088748dcba1"
      },
      "execution_count": 87,
      "outputs": [
        {
          "output_type": "execute_result",
          "data": {
            "text/plain": [
              "   Unnamed: 0                  Job Title              Salary Estimate  \\\n",
              "0           0             Data Scientist   $53K-$91K (Glassdoor est.)   \n",
              "1           1  Healthcare Data Scientist  $63K-$112K (Glassdoor est.)   \n",
              "2           2             Data Scientist   $80K-$90K (Glassdoor est.)   \n",
              "3           3             Data Scientist   $56K-$97K (Glassdoor est.)   \n",
              "4           4             Data Scientist  $86K-$143K (Glassdoor est.)   \n",
              "\n",
              "                                     Job Description  Rating  \\\n",
              "0  Data Scientist\\nLocation: Albuquerque, NM\\nEdu...     3.8   \n",
              "1  What You Will Do:\\n\\nI. General Summary\\n\\nThe...     3.4   \n",
              "2  KnowBe4, Inc. is a high growth information sec...     4.8   \n",
              "3  *Organization and Job ID**\\nJob ID: 310709\\n\\n...     3.8   \n",
              "4  Data Scientist\\nAffinity Solutions / Marketing...     2.9   \n",
              "\n",
              "                                 Company Name         Location  \\\n",
              "0                      Tecolote Research\\n3.8  Albuquerque, NM   \n",
              "1  University of Maryland Medical System\\n3.4    Linthicum, MD   \n",
              "2                                KnowBe4\\n4.8   Clearwater, FL   \n",
              "3                                   PNNL\\n3.8     Richland, WA   \n",
              "4                     Affinity Solutions\\n2.9     New York, NY   \n",
              "\n",
              "     Headquarters                    Size  Founded   Type of ownership  \\\n",
              "0      Goleta, CA   501 to 1000 employees     1973   Company - Private   \n",
              "1   Baltimore, MD        10000+ employees     1984  Other Organization   \n",
              "2  Clearwater, FL   501 to 1000 employees     2010   Company - Private   \n",
              "3    Richland, WA  1001 to 5000 employees     1965          Government   \n",
              "4    New York, NY     51 to 200 employees     1998   Company - Private   \n",
              "\n",
              "                           Industry                        Sector  \\\n",
              "0               Aerospace & Defense           Aerospace & Defense   \n",
              "1  Health Care Services & Hospitals                   Health Care   \n",
              "2                 Security Services             Business Services   \n",
              "3                            Energy  Oil, Gas, Energy & Utilities   \n",
              "4           Advertising & Marketing             Business Services   \n",
              "\n",
              "                            Revenue  \\\n",
              "0         $50 to $100 million (USD)   \n",
              "1            $2 to $5 billion (USD)   \n",
              "2        $100 to $500 million (USD)   \n",
              "3  $500 million to $1 billion (USD)   \n",
              "4          Unknown / Non-Applicable   \n",
              "\n",
              "                                         Competitors  \n",
              "0                                                 -1  \n",
              "1                                                 -1  \n",
              "2                                                 -1  \n",
              "3  Oak Ridge National Laboratory, National Renewa...  \n",
              "4               Commerce Signals, Cardlytics, Yodlee  "
            ],
            "text/html": [
              "\n",
              "  <div id=\"df-479e91ac-5c09-48ea-b04c-90413d0ba952\" class=\"colab-df-container\">\n",
              "    <div>\n",
              "<style scoped>\n",
              "    .dataframe tbody tr th:only-of-type {\n",
              "        vertical-align: middle;\n",
              "    }\n",
              "\n",
              "    .dataframe tbody tr th {\n",
              "        vertical-align: top;\n",
              "    }\n",
              "\n",
              "    .dataframe thead th {\n",
              "        text-align: right;\n",
              "    }\n",
              "</style>\n",
              "<table border=\"1\" class=\"dataframe\">\n",
              "  <thead>\n",
              "    <tr style=\"text-align: right;\">\n",
              "      <th></th>\n",
              "      <th>Unnamed: 0</th>\n",
              "      <th>Job Title</th>\n",
              "      <th>Salary Estimate</th>\n",
              "      <th>Job Description</th>\n",
              "      <th>Rating</th>\n",
              "      <th>Company Name</th>\n",
              "      <th>Location</th>\n",
              "      <th>Headquarters</th>\n",
              "      <th>Size</th>\n",
              "      <th>Founded</th>\n",
              "      <th>Type of ownership</th>\n",
              "      <th>Industry</th>\n",
              "      <th>Sector</th>\n",
              "      <th>Revenue</th>\n",
              "      <th>Competitors</th>\n",
              "    </tr>\n",
              "  </thead>\n",
              "  <tbody>\n",
              "    <tr>\n",
              "      <th>0</th>\n",
              "      <td>0</td>\n",
              "      <td>Data Scientist</td>\n",
              "      <td>$53K-$91K (Glassdoor est.)</td>\n",
              "      <td>Data Scientist\\nLocation: Albuquerque, NM\\nEdu...</td>\n",
              "      <td>3.8</td>\n",
              "      <td>Tecolote Research\\n3.8</td>\n",
              "      <td>Albuquerque, NM</td>\n",
              "      <td>Goleta, CA</td>\n",
              "      <td>501 to 1000 employees</td>\n",
              "      <td>1973</td>\n",
              "      <td>Company - Private</td>\n",
              "      <td>Aerospace &amp; Defense</td>\n",
              "      <td>Aerospace &amp; Defense</td>\n",
              "      <td>$50 to $100 million (USD)</td>\n",
              "      <td>-1</td>\n",
              "    </tr>\n",
              "    <tr>\n",
              "      <th>1</th>\n",
              "      <td>1</td>\n",
              "      <td>Healthcare Data Scientist</td>\n",
              "      <td>$63K-$112K (Glassdoor est.)</td>\n",
              "      <td>What You Will Do:\\n\\nI. General Summary\\n\\nThe...</td>\n",
              "      <td>3.4</td>\n",
              "      <td>University of Maryland Medical System\\n3.4</td>\n",
              "      <td>Linthicum, MD</td>\n",
              "      <td>Baltimore, MD</td>\n",
              "      <td>10000+ employees</td>\n",
              "      <td>1984</td>\n",
              "      <td>Other Organization</td>\n",
              "      <td>Health Care Services &amp; Hospitals</td>\n",
              "      <td>Health Care</td>\n",
              "      <td>$2 to $5 billion (USD)</td>\n",
              "      <td>-1</td>\n",
              "    </tr>\n",
              "    <tr>\n",
              "      <th>2</th>\n",
              "      <td>2</td>\n",
              "      <td>Data Scientist</td>\n",
              "      <td>$80K-$90K (Glassdoor est.)</td>\n",
              "      <td>KnowBe4, Inc. is a high growth information sec...</td>\n",
              "      <td>4.8</td>\n",
              "      <td>KnowBe4\\n4.8</td>\n",
              "      <td>Clearwater, FL</td>\n",
              "      <td>Clearwater, FL</td>\n",
              "      <td>501 to 1000 employees</td>\n",
              "      <td>2010</td>\n",
              "      <td>Company - Private</td>\n",
              "      <td>Security Services</td>\n",
              "      <td>Business Services</td>\n",
              "      <td>$100 to $500 million (USD)</td>\n",
              "      <td>-1</td>\n",
              "    </tr>\n",
              "    <tr>\n",
              "      <th>3</th>\n",
              "      <td>3</td>\n",
              "      <td>Data Scientist</td>\n",
              "      <td>$56K-$97K (Glassdoor est.)</td>\n",
              "      <td>*Organization and Job ID**\\nJob ID: 310709\\n\\n...</td>\n",
              "      <td>3.8</td>\n",
              "      <td>PNNL\\n3.8</td>\n",
              "      <td>Richland, WA</td>\n",
              "      <td>Richland, WA</td>\n",
              "      <td>1001 to 5000 employees</td>\n",
              "      <td>1965</td>\n",
              "      <td>Government</td>\n",
              "      <td>Energy</td>\n",
              "      <td>Oil, Gas, Energy &amp; Utilities</td>\n",
              "      <td>$500 million to $1 billion (USD)</td>\n",
              "      <td>Oak Ridge National Laboratory, National Renewa...</td>\n",
              "    </tr>\n",
              "    <tr>\n",
              "      <th>4</th>\n",
              "      <td>4</td>\n",
              "      <td>Data Scientist</td>\n",
              "      <td>$86K-$143K (Glassdoor est.)</td>\n",
              "      <td>Data Scientist\\nAffinity Solutions / Marketing...</td>\n",
              "      <td>2.9</td>\n",
              "      <td>Affinity Solutions\\n2.9</td>\n",
              "      <td>New York, NY</td>\n",
              "      <td>New York, NY</td>\n",
              "      <td>51 to 200 employees</td>\n",
              "      <td>1998</td>\n",
              "      <td>Company - Private</td>\n",
              "      <td>Advertising &amp; Marketing</td>\n",
              "      <td>Business Services</td>\n",
              "      <td>Unknown / Non-Applicable</td>\n",
              "      <td>Commerce Signals, Cardlytics, Yodlee</td>\n",
              "    </tr>\n",
              "  </tbody>\n",
              "</table>\n",
              "</div>\n",
              "    <div class=\"colab-df-buttons\">\n",
              "\n",
              "  <div class=\"colab-df-container\">\n",
              "    <button class=\"colab-df-convert\" onclick=\"convertToInteractive('df-479e91ac-5c09-48ea-b04c-90413d0ba952')\"\n",
              "            title=\"Convert this dataframe to an interactive table.\"\n",
              "            style=\"display:none;\">\n",
              "\n",
              "  <svg xmlns=\"http://www.w3.org/2000/svg\" height=\"24px\" viewBox=\"0 -960 960 960\">\n",
              "    <path d=\"M120-120v-720h720v720H120Zm60-500h600v-160H180v160Zm220 220h160v-160H400v160Zm0 220h160v-160H400v160ZM180-400h160v-160H180v160Zm440 0h160v-160H620v160ZM180-180h160v-160H180v160Zm440 0h160v-160H620v160Z\"/>\n",
              "  </svg>\n",
              "    </button>\n",
              "\n",
              "  <style>\n",
              "    .colab-df-container {\n",
              "      display:flex;\n",
              "      gap: 12px;\n",
              "    }\n",
              "\n",
              "    .colab-df-convert {\n",
              "      background-color: #E8F0FE;\n",
              "      border: none;\n",
              "      border-radius: 50%;\n",
              "      cursor: pointer;\n",
              "      display: none;\n",
              "      fill: #1967D2;\n",
              "      height: 32px;\n",
              "      padding: 0 0 0 0;\n",
              "      width: 32px;\n",
              "    }\n",
              "\n",
              "    .colab-df-convert:hover {\n",
              "      background-color: #E2EBFA;\n",
              "      box-shadow: 0px 1px 2px rgba(60, 64, 67, 0.3), 0px 1px 3px 1px rgba(60, 64, 67, 0.15);\n",
              "      fill: #174EA6;\n",
              "    }\n",
              "\n",
              "    .colab-df-buttons div {\n",
              "      margin-bottom: 4px;\n",
              "    }\n",
              "\n",
              "    [theme=dark] .colab-df-convert {\n",
              "      background-color: #3B4455;\n",
              "      fill: #D2E3FC;\n",
              "    }\n",
              "\n",
              "    [theme=dark] .colab-df-convert:hover {\n",
              "      background-color: #434B5C;\n",
              "      box-shadow: 0px 1px 3px 1px rgba(0, 0, 0, 0.15);\n",
              "      filter: drop-shadow(0px 1px 2px rgba(0, 0, 0, 0.3));\n",
              "      fill: #FFFFFF;\n",
              "    }\n",
              "  </style>\n",
              "\n",
              "    <script>\n",
              "      const buttonEl =\n",
              "        document.querySelector('#df-479e91ac-5c09-48ea-b04c-90413d0ba952 button.colab-df-convert');\n",
              "      buttonEl.style.display =\n",
              "        google.colab.kernel.accessAllowed ? 'block' : 'none';\n",
              "\n",
              "      async function convertToInteractive(key) {\n",
              "        const element = document.querySelector('#df-479e91ac-5c09-48ea-b04c-90413d0ba952');\n",
              "        const dataTable =\n",
              "          await google.colab.kernel.invokeFunction('convertToInteractive',\n",
              "                                                    [key], {});\n",
              "        if (!dataTable) return;\n",
              "\n",
              "        const docLinkHtml = 'Like what you see? Visit the ' +\n",
              "          '<a target=\"_blank\" href=https://colab.research.google.com/notebooks/data_table.ipynb>data table notebook</a>'\n",
              "          + ' to learn more about interactive tables.';\n",
              "        element.innerHTML = '';\n",
              "        dataTable['output_type'] = 'display_data';\n",
              "        await google.colab.output.renderOutput(dataTable, element);\n",
              "        const docLink = document.createElement('div');\n",
              "        docLink.innerHTML = docLinkHtml;\n",
              "        element.appendChild(docLink);\n",
              "      }\n",
              "    </script>\n",
              "  </div>\n",
              "\n",
              "\n",
              "    <div id=\"df-2271bb10-3a74-419d-af8f-bc1b731de66f\">\n",
              "      <button class=\"colab-df-quickchart\" onclick=\"quickchart('df-2271bb10-3a74-419d-af8f-bc1b731de66f')\"\n",
              "                title=\"Suggest charts\"\n",
              "                style=\"display:none;\">\n",
              "\n",
              "<svg xmlns=\"http://www.w3.org/2000/svg\" height=\"24px\"viewBox=\"0 0 24 24\"\n",
              "     width=\"24px\">\n",
              "    <g>\n",
              "        <path d=\"M19 3H5c-1.1 0-2 .9-2 2v14c0 1.1.9 2 2 2h14c1.1 0 2-.9 2-2V5c0-1.1-.9-2-2-2zM9 17H7v-7h2v7zm4 0h-2V7h2v10zm4 0h-2v-4h2v4z\"/>\n",
              "    </g>\n",
              "</svg>\n",
              "      </button>\n",
              "\n",
              "<style>\n",
              "  .colab-df-quickchart {\n",
              "      --bg-color: #E8F0FE;\n",
              "      --fill-color: #1967D2;\n",
              "      --hover-bg-color: #E2EBFA;\n",
              "      --hover-fill-color: #174EA6;\n",
              "      --disabled-fill-color: #AAA;\n",
              "      --disabled-bg-color: #DDD;\n",
              "  }\n",
              "\n",
              "  [theme=dark] .colab-df-quickchart {\n",
              "      --bg-color: #3B4455;\n",
              "      --fill-color: #D2E3FC;\n",
              "      --hover-bg-color: #434B5C;\n",
              "      --hover-fill-color: #FFFFFF;\n",
              "      --disabled-bg-color: #3B4455;\n",
              "      --disabled-fill-color: #666;\n",
              "  }\n",
              "\n",
              "  .colab-df-quickchart {\n",
              "    background-color: var(--bg-color);\n",
              "    border: none;\n",
              "    border-radius: 50%;\n",
              "    cursor: pointer;\n",
              "    display: none;\n",
              "    fill: var(--fill-color);\n",
              "    height: 32px;\n",
              "    padding: 0;\n",
              "    width: 32px;\n",
              "  }\n",
              "\n",
              "  .colab-df-quickchart:hover {\n",
              "    background-color: var(--hover-bg-color);\n",
              "    box-shadow: 0 1px 2px rgba(60, 64, 67, 0.3), 0 1px 3px 1px rgba(60, 64, 67, 0.15);\n",
              "    fill: var(--button-hover-fill-color);\n",
              "  }\n",
              "\n",
              "  .colab-df-quickchart-complete:disabled,\n",
              "  .colab-df-quickchart-complete:disabled:hover {\n",
              "    background-color: var(--disabled-bg-color);\n",
              "    fill: var(--disabled-fill-color);\n",
              "    box-shadow: none;\n",
              "  }\n",
              "\n",
              "  .colab-df-spinner {\n",
              "    border: 2px solid var(--fill-color);\n",
              "    border-color: transparent;\n",
              "    border-bottom-color: var(--fill-color);\n",
              "    animation:\n",
              "      spin 1s steps(1) infinite;\n",
              "  }\n",
              "\n",
              "  @keyframes spin {\n",
              "    0% {\n",
              "      border-color: transparent;\n",
              "      border-bottom-color: var(--fill-color);\n",
              "      border-left-color: var(--fill-color);\n",
              "    }\n",
              "    20% {\n",
              "      border-color: transparent;\n",
              "      border-left-color: var(--fill-color);\n",
              "      border-top-color: var(--fill-color);\n",
              "    }\n",
              "    30% {\n",
              "      border-color: transparent;\n",
              "      border-left-color: var(--fill-color);\n",
              "      border-top-color: var(--fill-color);\n",
              "      border-right-color: var(--fill-color);\n",
              "    }\n",
              "    40% {\n",
              "      border-color: transparent;\n",
              "      border-right-color: var(--fill-color);\n",
              "      border-top-color: var(--fill-color);\n",
              "    }\n",
              "    60% {\n",
              "      border-color: transparent;\n",
              "      border-right-color: var(--fill-color);\n",
              "    }\n",
              "    80% {\n",
              "      border-color: transparent;\n",
              "      border-right-color: var(--fill-color);\n",
              "      border-bottom-color: var(--fill-color);\n",
              "    }\n",
              "    90% {\n",
              "      border-color: transparent;\n",
              "      border-bottom-color: var(--fill-color);\n",
              "    }\n",
              "  }\n",
              "</style>\n",
              "\n",
              "      <script>\n",
              "        async function quickchart(key) {\n",
              "          const quickchartButtonEl =\n",
              "            document.querySelector('#' + key + ' button');\n",
              "          quickchartButtonEl.disabled = true;  // To prevent multiple clicks.\n",
              "          quickchartButtonEl.classList.add('colab-df-spinner');\n",
              "          try {\n",
              "            const charts = await google.colab.kernel.invokeFunction(\n",
              "                'suggestCharts', [key], {});\n",
              "          } catch (error) {\n",
              "            console.error('Error during call to suggestCharts:', error);\n",
              "          }\n",
              "          quickchartButtonEl.classList.remove('colab-df-spinner');\n",
              "          quickchartButtonEl.classList.add('colab-df-quickchart-complete');\n",
              "        }\n",
              "        (() => {\n",
              "          let quickchartButtonEl =\n",
              "            document.querySelector('#df-2271bb10-3a74-419d-af8f-bc1b731de66f button');\n",
              "          quickchartButtonEl.style.display =\n",
              "            google.colab.kernel.accessAllowed ? 'block' : 'none';\n",
              "        })();\n",
              "      </script>\n",
              "    </div>\n",
              "\n",
              "    </div>\n",
              "  </div>\n"
            ],
            "application/vnd.google.colaboratory.intrinsic+json": {
              "type": "dataframe",
              "variable_name": "df",
              "summary": "{\n  \"name\": \"df\",\n  \"rows\": 956,\n  \"fields\": [\n    {\n      \"column\": \"Unnamed: 0\",\n      \"properties\": {\n        \"dtype\": \"number\",\n        \"std\": 276,\n        \"min\": 0,\n        \"max\": 955,\n        \"num_unique_values\": 956,\n        \"samples\": [\n          342,\n          864,\n          522\n        ],\n        \"semantic_type\": \"\",\n        \"description\": \"\"\n      }\n    },\n    {\n      \"column\": \"Job Title\",\n      \"properties\": {\n        \"dtype\": \"category\",\n        \"num_unique_values\": 328,\n        \"samples\": [\n          \"Sr. Microsoft Data Engineer\",\n          \"Principal Scientist, Chemistry & Immunology\",\n          \"Systems Engineer II - Data Analyst\"\n        ],\n        \"semantic_type\": \"\",\n        \"description\": \"\"\n      }\n    },\n    {\n      \"column\": \"Salary Estimate\",\n      \"properties\": {\n        \"dtype\": \"category\",\n        \"num_unique_values\": 417,\n        \"samples\": [\n          \"Employer Provided Salary:$200K-$250K\",\n          \"$32K-$57K (Glassdoor est.)\",\n          \"$81K-$132K (Glassdoor est.)\"\n        ],\n        \"semantic_type\": \"\",\n        \"description\": \"\"\n      }\n    },\n    {\n      \"column\": \"Job Description\",\n      \"properties\": {\n        \"dtype\": \"string\",\n        \"num_unique_values\": 596,\n        \"samples\": [\n          \"Responsible for both high level and granular measurement of public and private variable marketing programs. Provide 1:1 program insights with regard to campaign offer performance and efficiency, audience segmentation and performance, ROI that drive future strategy\\n\\nProvide Omni-channel performance metrics. Consult with modeling team to insure past program performance informs future audience modeling efforts. Assist with program business case development. Produce quarterly reporting of campaign results as well as additional ad hoc requests. Oversee team members work as needed. Multi-task across various programs and activities simultaneously\\n\\nMust have:\\nSubject Matter Expertise in 1:1 marketing program measurement\\nKnowledge of SQL, Alteryx, and Microsoft Office preferred.\\nFamiliarity with A/B testing or experimental design (i.e., treated/control groups) is also helpful.\\nPast experience analyzing marketing campaign results (e.g., incremental sales, net profit, ROI)\\nAbility to query, join, and manipulate data (e.g., create new variables as needed)\\nExperience meeting with clients directly to understand business needs and discuss findings\\nAbility to create PowerPoints containing graphs and insights into findings\\nCustomer profiling experience\\nAbility to present findings to the client and team meetings\\nAdditional Job Description\\n\\n\\u00b7 Highly proficient utilizing SQL and Alteryx, tableau, Qlik, etc. to manipulate, arrange, query and present data\\n\\n\\u00b7 Experience with complex problem solving \\u2013 data manipulation, data quality, data modeling,statistical analysis and/or reporting\\n\\n\\u00b7 Excellent interpersonal skills with people at all management and organizational levels\\n\\n\\u00b7 Ability to respond in an effective and timely manner\\n\\n\\u00b7 Subject matter expert in an analytics specialty\\n\\n\\u00b7 BA / BS in Statistics, Mathematics, Econometrics or computer science\\n\\n\\u00b7 Min 5-year experiences as analytics team lead or manager\\nOneMagnify is an Equal Opportunity Employer.\",\n          \"Position Purpose\\n\\nAs a Senior Data Engineer on the Echo Global Logistics team, you will contribute to database management of large scale web-based applications through the use of SQL, C#, and .NET tools. These technologies enable Echo's business while supporting architectural vision of quality, scalability, performance and function. Our proprietary software is created with the goal to simplify transportation for our customers and carriers, and is one of our largest competitive advantages in an ever growing market.\\n\\nEcho Global Logistics has recently been ranked the third largest digital company by employee size in Chicago and we are continuing to see increased growth in virtually all of our technical teams. Additionally, we have been ranked as the #1 Inbound Logistics 3PL for 2017 and look forward to speaking with you further about our team!\\n\\nEssential Position Functions\\n\\nYou...\\nSee technology as a passion, not something you just do between 9-5\\nPossess the ability to create new solutions; we operate on a web based platform and constantly facing unchartered waters\\nPossess strong fundamentals within coding technologies and a willingness to wear several hats when called upon\\nDo not wait for something to break; find a problem before it becomes one and constantly aiming to improve\\nHaving a willingness to vocalize these ideas and pick yourself up if you get knocked down\\nWe\\u2026\\nValue passionate technologists, go-getters, and people who never stop seeking ways to improve existing technology\\nHave a high focus on career development and the runway to get you there\\nWork hard, period\\nOffer competitive compensation, benefits, 401k, challenging projects, company wide events, coworkers and leaders who will push you to get better, a sense of community not found anywhere else\\nResponsibilities:\\n\\nData Engineer's work in conjunction with Software Engineers, DBA's, Business Analysts, Quality Assurance and business owners\\nServe as a member of a data team that solves complex challenges and builds working database solutions using SQL Server, T-SQL, SSIS, stored procedures, views, user-defined functions, and table functions\\nDevelop solutions and contributing to development, leveraging Object-Oriented programming techniques (.Net), Software Development Lifecycles, Unit Test Techniques, and Debugging/Analytical Techniques.\\nCollaborate with the team to develop database structures that fit into the overall architecture of the systems under development.\\nCode, install, optimize, and debug database queries and stored procedures using appropriate tools and editors.\\nPerform code reviews and provide feedback in a timely manner.\\nPromote collective code ownership for everyone to have visibility into the feature codebase.\\nPresent technical ideas and concepts in business-friendly language.\\nProvide recommendations, analysis, and evaluation of systems improvements, optimization, development, and maintenance efforts, including capacity planning.\\nIdentify and correct performance bottlenecks related to SQL code.\\nSupport timely production releases and adherence to release activities.\\nContribute to data retention strategy.\\nPosition Requirements\\n1-3 years in commercial-grade business applications environment leveraging the following:\\nSQL Server, T-SQL, SSIS, stored procedures, user-defined functions and table functions\\nManaging design risk\\n1-3 years leveraging OO programming techniques\\nSoftware development lifecycles, Unit test techniques, debugging/analytical techniques\\nWhat's in it for you?\\nHelp career growth by joining industry leader and continuing to advance Echo web based technologies\\nWorking with an organization with defined market goals, products, customers, revenue, and development teams\\nExperienced mentors to learn and adopt new practices\\nAbility to introduce your own views and takes on our product offerings\\nWork in wide variety of data management\\nAbility to constantly enhance and improve applications\\nHave a clearly defined career growth track with enough flexibility to pave your own way\\nAll qualified applicants will receive consideration for employment without regard to age, race, color, religion, sex, sexual orientation, gender identity, national origin, status as a qualified individual with a disability, or Vietnam era or other protected veteran.\",\n          \"PeoplesBank is the largest mutually chartered bank in Western Massachusetts and a leader in green values, sustainable energy financing, and charitable giving. Come join our team of dedicated individuals who want to contribute to a dynamic, successful organization.\\n\\nData Scientist\\n\\nSchedule:Monday through Wednesday and Friday8:30am-4:30pm, Thursday 8:30am-5:00pm\\n\\nResponsibilities:\\n\\n\\u00b7Analyze, interpret and visualize complex datacreating conceptual, logical and physical data models to determine the most appropriate method to represent data for business consumption\\n\\n\\u00b7Lead analytic projects and track overall performance of assigned projects including conversion rates and retargeting; recommend process and procedure improvements as a result of analytics.\\n\\n\\u00b7Manage the Marketing platform by working closely with the marketing team to identify opportunities and implement campaigns for the Marketing team.\\n\\n\\u00b7Manage ad hoc analyses to supportbank wide initiatives\\n\\n\\u00b7Direct and perform a variety of advanced analyses including data mining and research; provide recommendations based on key findings.\\n\\n\\u00b7Work with Data Liaisons to manage and improveexisting customer data points to identify customer demand and trends to drive strategy. Create dashboards to provide on demand tracking of bank wide KPI\\u2019s and metrics. Evaluate the data and determine and recommend next steps based off this information.\\n\\n\\u00b7Manage large& complex analytical projects, data exploration, model building& testing.\\n\\n\\u00b7Work cross-functionally with multiple internal teams developing strong working relationships and have a hands-on mentality.\\n\\n\\u00b7Explore new data sources, analytical techniques and industry trends to ensure ongoing competitive advantage.\\n\\n\\u00b7Measure and report performance of bank promotions and assess against goals; Identify trends and insights and make recommendations to optimize performance based on insights.\\n\\n\\u00b7Manage, develop and build models that lead to better business insights and recommendations. Understand customer patterns and behavior and provide insight on customer experience, customer retention, customer acquisition and utilization strategies. Provide recommendations based on the analysis.\\n\\n\\u00b7Create new and manage existing folders, reports, dashboards, and agents in the data management system to ensure timely and accurate data reporting for use by bank managers for decision purposes.\\n\\n\\u00b7Completes all yearly compliance training and testing and complies with bank, federal, and state regulations.Adheres to departmental and bank-wide service standards.\\n\\n\\u00b7Adheres to departmental and bank-wide service standards. Complies with Bank Policies and Procedures\\n\\nThe Data Scientist will be involved in articulating data-driven solutions that inform decision making, and in developing methods or processes for implementation and targeting. The Data Scientist will be expected to have a deep understanding of analytical methodologies in order to complete unstructured assignments with little supervision.\\n\\nThe Data Scientist has impact on identifying customer behavior and targeting analysis. The Data Scientist provides insight for a variety of bank wide initiatives based on data analysis on both the front end and back end. The position will also be expected to take that data and proactively provide recommendations for next steps utilizing the data. Inaccurate reporting of data provided to Senior Management could result in misinformed decision making significantly impacting the financial or operational performance of the bank. Failure to adequately safeguard customer information could result in negative regulatory sanctions.\\n\\nEducation and/or Experience:\\n\\nGenerally requires a Master\\u2019s degree, preferably, in business administration, finance, or data/information sciences plus five to ten years of relevant experience or an equivalent combination of education and experience.\\n\\nComputer Skills:\\n\\nProficient in Microsoft Office Suite. Proficient in database management, report writing software (such as Oracle Business Intelligence) and SQL. General knowledge of other computer applications and banking core processing systems. Possesses understanding in the areas of application programming, database and system design. Understands how legacy and web-based systems interface with each other.\\n\\nOther skills and knowledge\\nBring a strong background with proven experience in digital analytics, measurement, modeling, and data quality.\\nSolid Analytical/statistical skills. Ability to think deeply about statistical issues as well as business and marketing implications.\\nPassion to self-educate and keep up-to-date on the latest Analytics trends in marketing, banking and other fields.\\nExcellent attention to detail, data accuracy, and quality of output. Proactively seeks opportunities to serve in leadership roles while serving as a role model.\\nTime Management:Strong time management skills, proficiency in prioritizing, scheduling and managing multiple project schedules and different levels of criticality.\"\n        ],\n        \"semantic_type\": \"\",\n        \"description\": \"\"\n      }\n    },\n    {\n      \"column\": \"Rating\",\n      \"properties\": {\n        \"dtype\": \"number\",\n        \"std\": 1.0676188182455826,\n        \"min\": -1.0,\n        \"max\": 5.0,\n        \"num_unique_values\": 32,\n        \"samples\": [\n          2.4,\n          4.7,\n          1.9\n        ],\n        \"semantic_type\": \"\",\n        \"description\": \"\"\n      }\n    },\n    {\n      \"column\": \"Company Name\",\n      \"properties\": {\n        \"dtype\": \"category\",\n        \"num_unique_values\": 448,\n        \"samples\": [\n          \"MathWorks\\n4.4\",\n          \"Kronos Bio\",\n          \"DrFirst\\n2.8\"\n        ],\n        \"semantic_type\": \"\",\n        \"description\": \"\"\n      }\n    },\n    {\n      \"column\": \"Location\",\n      \"properties\": {\n        \"dtype\": \"category\",\n        \"num_unique_values\": 237,\n        \"samples\": [\n          \"Winter Park, FL\",\n          \"San Francisco, CA\",\n          \"Aliso Viejo, CA\"\n        ],\n        \"semantic_type\": \"\",\n        \"description\": \"\"\n      }\n    },\n    {\n      \"column\": \"Headquarters\",\n      \"properties\": {\n        \"dtype\": \"category\",\n        \"num_unique_values\": 235,\n        \"samples\": [\n          \"Silver Spring, MD\",\n          \"Brentford, United Kingdom\",\n          \"Farmington Hills, MI\"\n        ],\n        \"semantic_type\": \"\",\n        \"description\": \"\"\n      }\n    },\n    {\n      \"column\": \"Size\",\n      \"properties\": {\n        \"dtype\": \"category\",\n        \"num_unique_values\": 9,\n        \"samples\": [\n          \"Unknown\",\n          \"10000+ employees\",\n          \"5001 to 10000 employees\"\n        ],\n        \"semantic_type\": \"\",\n        \"description\": \"\"\n      }\n    },\n    {\n      \"column\": \"Founded\",\n      \"properties\": {\n        \"dtype\": \"number\",\n        \"std\": 598,\n        \"min\": -1,\n        \"max\": 2019,\n        \"num_unique_values\": 109,\n        \"samples\": [\n          1930,\n          2011,\n          1998\n        ],\n        \"semantic_type\": \"\",\n        \"description\": \"\"\n      }\n    },\n    {\n      \"column\": \"Type of ownership\",\n      \"properties\": {\n        \"dtype\": \"category\",\n        \"num_unique_values\": 13,\n        \"samples\": [\n          \"-1\",\n          \"College / University\",\n          \"Company - Private\"\n        ],\n        \"semantic_type\": \"\",\n        \"description\": \"\"\n      }\n    },\n    {\n      \"column\": \"Industry\",\n      \"properties\": {\n        \"dtype\": \"category\",\n        \"num_unique_values\": 63,\n        \"samples\": [\n          \"Consumer Product Rental\",\n          \"Publishing\",\n          \"Aerospace & Defense\"\n        ],\n        \"semantic_type\": \"\",\n        \"description\": \"\"\n      }\n    },\n    {\n      \"column\": \"Sector\",\n      \"properties\": {\n        \"dtype\": \"category\",\n        \"num_unique_values\": 25,\n        \"samples\": [\n          \"Biotech & Pharmaceuticals\",\n          \"Government\",\n          \"Aerospace & Defense\"\n        ],\n        \"semantic_type\": \"\",\n        \"description\": \"\"\n      }\n    },\n    {\n      \"column\": \"Revenue\",\n      \"properties\": {\n        \"dtype\": \"category\",\n        \"num_unique_values\": 14,\n        \"samples\": [\n          \"$10 to $25 million (USD)\",\n          \"Less than $1 million (USD)\",\n          \"$50 to $100 million (USD)\"\n        ],\n        \"semantic_type\": \"\",\n        \"description\": \"\"\n      }\n    },\n    {\n      \"column\": \"Competitors\",\n      \"properties\": {\n        \"dtype\": \"category\",\n        \"num_unique_values\": 149,\n        \"samples\": [\n          \"Mercer, Korn Ferry, Integrated Healthcare Strategies\",\n          \"Travelers, Allstate, State Farm\",\n          \"EmblemHealth, UnitedHealth Group, Aetna\"\n        ],\n        \"semantic_type\": \"\",\n        \"description\": \"\"\n      }\n    }\n  ]\n}"
            }
          },
          "metadata": {},
          "execution_count": 87
        }
      ]
    },
    {
      "cell_type": "code",
      "source": [
        "df.tail()"
      ],
      "metadata": {
        "colab": {
          "base_uri": "https://localhost:8080/",
          "height": 556
        },
        "id": "rxLOKBk5GqdA",
        "outputId": "14ed53f3-25bb-438c-a141-e7f3f68279fc"
      },
      "execution_count": 88,
      "outputs": [
        {
          "output_type": "execute_result",
          "data": {
            "text/plain": [
              "     Unnamed: 0                                          Job Title  \\\n",
              "951         951                               Senior Data Engineer   \n",
              "952         952  Project Scientist - Auton Lab, Robotics Institute   \n",
              "953         953                               Data Science Manager   \n",
              "954         954                                      Data Engineer   \n",
              "955         955          Research Scientist – Security and Privacy   \n",
              "\n",
              "                 Salary Estimate  \\\n",
              "951  $72K-$133K (Glassdoor est.)   \n",
              "952   $56K-$91K (Glassdoor est.)   \n",
              "953  $95K-$160K (Glassdoor est.)   \n",
              "954                           -1   \n",
              "955  $61K-$126K (Glassdoor est.)   \n",
              "\n",
              "                                       Job Description  Rating  \\\n",
              "951  THE CHALLENGE\\nEventbrite has a world-class da...     4.4   \n",
              "952  The Auton Lab at Carnegie Mellon University is...     2.6   \n",
              "953  Data Science ManagerResponsibilities:\\n\\nOvers...     3.2   \n",
              "954  Loading...\\n\\nTitle: Data Engineer\\n\\nLocation...     4.8   \n",
              "955  Returning Candidate? Log back in to the Career...     3.6   \n",
              "\n",
              "                            Company Name         Location       Headquarters  \\\n",
              "951                      Eventbrite\\n4.4    Nashville, TN  San Francisco, CA   \n",
              "952  Software Engineering Institute\\n2.6   Pittsburgh, PA     Pittsburgh, PA   \n",
              "953                    Numeric, LLC\\n3.2    Allentown, PA    Chadds Ford, PA   \n",
              "954                            IGNW\\n4.8       Austin, TX       Portland, OR   \n",
              "955    Riverside Research Institute\\n3.6  Beavercreek, OH      Arlington, VA   \n",
              "\n",
              "                       Size  Founded       Type of ownership  \\\n",
              "951  1001 to 5000 employees     2006        Company - Public   \n",
              "952   501 to 1000 employees     1984    College / University   \n",
              "953       1 to 50 employees       -1       Company - Private   \n",
              "954    201 to 500 employees     2015       Company - Private   \n",
              "955   501 to 1000 employees     1967  Nonprofit Organization   \n",
              "\n",
              "                    Industry                  Sector  \\\n",
              "951                 Internet  Information Technology   \n",
              "952  Colleges & Universities               Education   \n",
              "953   Staffing & Outsourcing       Business Services   \n",
              "954              IT Services  Information Technology   \n",
              "955         Federal Agencies              Government   \n",
              "\n",
              "                        Revenue                      Competitors  \n",
              "951  $100 to $500 million (USD)  See Tickets, TicketWeb, Vendini  \n",
              "952    Unknown / Non-Applicable                               -1  \n",
              "953     $5 to $10 million (USD)                               -1  \n",
              "954    $25 to $50 million (USD)                           Slalom  \n",
              "955   $50 to $100 million (USD)                               -1  "
            ],
            "text/html": [
              "\n",
              "  <div id=\"df-bda703cb-cb87-47c3-b079-36ccec887b75\" class=\"colab-df-container\">\n",
              "    <div>\n",
              "<style scoped>\n",
              "    .dataframe tbody tr th:only-of-type {\n",
              "        vertical-align: middle;\n",
              "    }\n",
              "\n",
              "    .dataframe tbody tr th {\n",
              "        vertical-align: top;\n",
              "    }\n",
              "\n",
              "    .dataframe thead th {\n",
              "        text-align: right;\n",
              "    }\n",
              "</style>\n",
              "<table border=\"1\" class=\"dataframe\">\n",
              "  <thead>\n",
              "    <tr style=\"text-align: right;\">\n",
              "      <th></th>\n",
              "      <th>Unnamed: 0</th>\n",
              "      <th>Job Title</th>\n",
              "      <th>Salary Estimate</th>\n",
              "      <th>Job Description</th>\n",
              "      <th>Rating</th>\n",
              "      <th>Company Name</th>\n",
              "      <th>Location</th>\n",
              "      <th>Headquarters</th>\n",
              "      <th>Size</th>\n",
              "      <th>Founded</th>\n",
              "      <th>Type of ownership</th>\n",
              "      <th>Industry</th>\n",
              "      <th>Sector</th>\n",
              "      <th>Revenue</th>\n",
              "      <th>Competitors</th>\n",
              "    </tr>\n",
              "  </thead>\n",
              "  <tbody>\n",
              "    <tr>\n",
              "      <th>951</th>\n",
              "      <td>951</td>\n",
              "      <td>Senior Data Engineer</td>\n",
              "      <td>$72K-$133K (Glassdoor est.)</td>\n",
              "      <td>THE CHALLENGE\\nEventbrite has a world-class da...</td>\n",
              "      <td>4.4</td>\n",
              "      <td>Eventbrite\\n4.4</td>\n",
              "      <td>Nashville, TN</td>\n",
              "      <td>San Francisco, CA</td>\n",
              "      <td>1001 to 5000 employees</td>\n",
              "      <td>2006</td>\n",
              "      <td>Company - Public</td>\n",
              "      <td>Internet</td>\n",
              "      <td>Information Technology</td>\n",
              "      <td>$100 to $500 million (USD)</td>\n",
              "      <td>See Tickets, TicketWeb, Vendini</td>\n",
              "    </tr>\n",
              "    <tr>\n",
              "      <th>952</th>\n",
              "      <td>952</td>\n",
              "      <td>Project Scientist - Auton Lab, Robotics Institute</td>\n",
              "      <td>$56K-$91K (Glassdoor est.)</td>\n",
              "      <td>The Auton Lab at Carnegie Mellon University is...</td>\n",
              "      <td>2.6</td>\n",
              "      <td>Software Engineering Institute\\n2.6</td>\n",
              "      <td>Pittsburgh, PA</td>\n",
              "      <td>Pittsburgh, PA</td>\n",
              "      <td>501 to 1000 employees</td>\n",
              "      <td>1984</td>\n",
              "      <td>College / University</td>\n",
              "      <td>Colleges &amp; Universities</td>\n",
              "      <td>Education</td>\n",
              "      <td>Unknown / Non-Applicable</td>\n",
              "      <td>-1</td>\n",
              "    </tr>\n",
              "    <tr>\n",
              "      <th>953</th>\n",
              "      <td>953</td>\n",
              "      <td>Data Science Manager</td>\n",
              "      <td>$95K-$160K (Glassdoor est.)</td>\n",
              "      <td>Data Science ManagerResponsibilities:\\n\\nOvers...</td>\n",
              "      <td>3.2</td>\n",
              "      <td>Numeric, LLC\\n3.2</td>\n",
              "      <td>Allentown, PA</td>\n",
              "      <td>Chadds Ford, PA</td>\n",
              "      <td>1 to 50 employees</td>\n",
              "      <td>-1</td>\n",
              "      <td>Company - Private</td>\n",
              "      <td>Staffing &amp; Outsourcing</td>\n",
              "      <td>Business Services</td>\n",
              "      <td>$5 to $10 million (USD)</td>\n",
              "      <td>-1</td>\n",
              "    </tr>\n",
              "    <tr>\n",
              "      <th>954</th>\n",
              "      <td>954</td>\n",
              "      <td>Data Engineer</td>\n",
              "      <td>-1</td>\n",
              "      <td>Loading...\\n\\nTitle: Data Engineer\\n\\nLocation...</td>\n",
              "      <td>4.8</td>\n",
              "      <td>IGNW\\n4.8</td>\n",
              "      <td>Austin, TX</td>\n",
              "      <td>Portland, OR</td>\n",
              "      <td>201 to 500 employees</td>\n",
              "      <td>2015</td>\n",
              "      <td>Company - Private</td>\n",
              "      <td>IT Services</td>\n",
              "      <td>Information Technology</td>\n",
              "      <td>$25 to $50 million (USD)</td>\n",
              "      <td>Slalom</td>\n",
              "    </tr>\n",
              "    <tr>\n",
              "      <th>955</th>\n",
              "      <td>955</td>\n",
              "      <td>Research Scientist – Security and Privacy</td>\n",
              "      <td>$61K-$126K (Glassdoor est.)</td>\n",
              "      <td>Returning Candidate? Log back in to the Career...</td>\n",
              "      <td>3.6</td>\n",
              "      <td>Riverside Research Institute\\n3.6</td>\n",
              "      <td>Beavercreek, OH</td>\n",
              "      <td>Arlington, VA</td>\n",
              "      <td>501 to 1000 employees</td>\n",
              "      <td>1967</td>\n",
              "      <td>Nonprofit Organization</td>\n",
              "      <td>Federal Agencies</td>\n",
              "      <td>Government</td>\n",
              "      <td>$50 to $100 million (USD)</td>\n",
              "      <td>-1</td>\n",
              "    </tr>\n",
              "  </tbody>\n",
              "</table>\n",
              "</div>\n",
              "    <div class=\"colab-df-buttons\">\n",
              "\n",
              "  <div class=\"colab-df-container\">\n",
              "    <button class=\"colab-df-convert\" onclick=\"convertToInteractive('df-bda703cb-cb87-47c3-b079-36ccec887b75')\"\n",
              "            title=\"Convert this dataframe to an interactive table.\"\n",
              "            style=\"display:none;\">\n",
              "\n",
              "  <svg xmlns=\"http://www.w3.org/2000/svg\" height=\"24px\" viewBox=\"0 -960 960 960\">\n",
              "    <path d=\"M120-120v-720h720v720H120Zm60-500h600v-160H180v160Zm220 220h160v-160H400v160Zm0 220h160v-160H400v160ZM180-400h160v-160H180v160Zm440 0h160v-160H620v160ZM180-180h160v-160H180v160Zm440 0h160v-160H620v160Z\"/>\n",
              "  </svg>\n",
              "    </button>\n",
              "\n",
              "  <style>\n",
              "    .colab-df-container {\n",
              "      display:flex;\n",
              "      gap: 12px;\n",
              "    }\n",
              "\n",
              "    .colab-df-convert {\n",
              "      background-color: #E8F0FE;\n",
              "      border: none;\n",
              "      border-radius: 50%;\n",
              "      cursor: pointer;\n",
              "      display: none;\n",
              "      fill: #1967D2;\n",
              "      height: 32px;\n",
              "      padding: 0 0 0 0;\n",
              "      width: 32px;\n",
              "    }\n",
              "\n",
              "    .colab-df-convert:hover {\n",
              "      background-color: #E2EBFA;\n",
              "      box-shadow: 0px 1px 2px rgba(60, 64, 67, 0.3), 0px 1px 3px 1px rgba(60, 64, 67, 0.15);\n",
              "      fill: #174EA6;\n",
              "    }\n",
              "\n",
              "    .colab-df-buttons div {\n",
              "      margin-bottom: 4px;\n",
              "    }\n",
              "\n",
              "    [theme=dark] .colab-df-convert {\n",
              "      background-color: #3B4455;\n",
              "      fill: #D2E3FC;\n",
              "    }\n",
              "\n",
              "    [theme=dark] .colab-df-convert:hover {\n",
              "      background-color: #434B5C;\n",
              "      box-shadow: 0px 1px 3px 1px rgba(0, 0, 0, 0.15);\n",
              "      filter: drop-shadow(0px 1px 2px rgba(0, 0, 0, 0.3));\n",
              "      fill: #FFFFFF;\n",
              "    }\n",
              "  </style>\n",
              "\n",
              "    <script>\n",
              "      const buttonEl =\n",
              "        document.querySelector('#df-bda703cb-cb87-47c3-b079-36ccec887b75 button.colab-df-convert');\n",
              "      buttonEl.style.display =\n",
              "        google.colab.kernel.accessAllowed ? 'block' : 'none';\n",
              "\n",
              "      async function convertToInteractive(key) {\n",
              "        const element = document.querySelector('#df-bda703cb-cb87-47c3-b079-36ccec887b75');\n",
              "        const dataTable =\n",
              "          await google.colab.kernel.invokeFunction('convertToInteractive',\n",
              "                                                    [key], {});\n",
              "        if (!dataTable) return;\n",
              "\n",
              "        const docLinkHtml = 'Like what you see? Visit the ' +\n",
              "          '<a target=\"_blank\" href=https://colab.research.google.com/notebooks/data_table.ipynb>data table notebook</a>'\n",
              "          + ' to learn more about interactive tables.';\n",
              "        element.innerHTML = '';\n",
              "        dataTable['output_type'] = 'display_data';\n",
              "        await google.colab.output.renderOutput(dataTable, element);\n",
              "        const docLink = document.createElement('div');\n",
              "        docLink.innerHTML = docLinkHtml;\n",
              "        element.appendChild(docLink);\n",
              "      }\n",
              "    </script>\n",
              "  </div>\n",
              "\n",
              "\n",
              "    <div id=\"df-632d1ee8-8567-42f1-8b97-6fd162fa2750\">\n",
              "      <button class=\"colab-df-quickchart\" onclick=\"quickchart('df-632d1ee8-8567-42f1-8b97-6fd162fa2750')\"\n",
              "                title=\"Suggest charts\"\n",
              "                style=\"display:none;\">\n",
              "\n",
              "<svg xmlns=\"http://www.w3.org/2000/svg\" height=\"24px\"viewBox=\"0 0 24 24\"\n",
              "     width=\"24px\">\n",
              "    <g>\n",
              "        <path d=\"M19 3H5c-1.1 0-2 .9-2 2v14c0 1.1.9 2 2 2h14c1.1 0 2-.9 2-2V5c0-1.1-.9-2-2-2zM9 17H7v-7h2v7zm4 0h-2V7h2v10zm4 0h-2v-4h2v4z\"/>\n",
              "    </g>\n",
              "</svg>\n",
              "      </button>\n",
              "\n",
              "<style>\n",
              "  .colab-df-quickchart {\n",
              "      --bg-color: #E8F0FE;\n",
              "      --fill-color: #1967D2;\n",
              "      --hover-bg-color: #E2EBFA;\n",
              "      --hover-fill-color: #174EA6;\n",
              "      --disabled-fill-color: #AAA;\n",
              "      --disabled-bg-color: #DDD;\n",
              "  }\n",
              "\n",
              "  [theme=dark] .colab-df-quickchart {\n",
              "      --bg-color: #3B4455;\n",
              "      --fill-color: #D2E3FC;\n",
              "      --hover-bg-color: #434B5C;\n",
              "      --hover-fill-color: #FFFFFF;\n",
              "      --disabled-bg-color: #3B4455;\n",
              "      --disabled-fill-color: #666;\n",
              "  }\n",
              "\n",
              "  .colab-df-quickchart {\n",
              "    background-color: var(--bg-color);\n",
              "    border: none;\n",
              "    border-radius: 50%;\n",
              "    cursor: pointer;\n",
              "    display: none;\n",
              "    fill: var(--fill-color);\n",
              "    height: 32px;\n",
              "    padding: 0;\n",
              "    width: 32px;\n",
              "  }\n",
              "\n",
              "  .colab-df-quickchart:hover {\n",
              "    background-color: var(--hover-bg-color);\n",
              "    box-shadow: 0 1px 2px rgba(60, 64, 67, 0.3), 0 1px 3px 1px rgba(60, 64, 67, 0.15);\n",
              "    fill: var(--button-hover-fill-color);\n",
              "  }\n",
              "\n",
              "  .colab-df-quickchart-complete:disabled,\n",
              "  .colab-df-quickchart-complete:disabled:hover {\n",
              "    background-color: var(--disabled-bg-color);\n",
              "    fill: var(--disabled-fill-color);\n",
              "    box-shadow: none;\n",
              "  }\n",
              "\n",
              "  .colab-df-spinner {\n",
              "    border: 2px solid var(--fill-color);\n",
              "    border-color: transparent;\n",
              "    border-bottom-color: var(--fill-color);\n",
              "    animation:\n",
              "      spin 1s steps(1) infinite;\n",
              "  }\n",
              "\n",
              "  @keyframes spin {\n",
              "    0% {\n",
              "      border-color: transparent;\n",
              "      border-bottom-color: var(--fill-color);\n",
              "      border-left-color: var(--fill-color);\n",
              "    }\n",
              "    20% {\n",
              "      border-color: transparent;\n",
              "      border-left-color: var(--fill-color);\n",
              "      border-top-color: var(--fill-color);\n",
              "    }\n",
              "    30% {\n",
              "      border-color: transparent;\n",
              "      border-left-color: var(--fill-color);\n",
              "      border-top-color: var(--fill-color);\n",
              "      border-right-color: var(--fill-color);\n",
              "    }\n",
              "    40% {\n",
              "      border-color: transparent;\n",
              "      border-right-color: var(--fill-color);\n",
              "      border-top-color: var(--fill-color);\n",
              "    }\n",
              "    60% {\n",
              "      border-color: transparent;\n",
              "      border-right-color: var(--fill-color);\n",
              "    }\n",
              "    80% {\n",
              "      border-color: transparent;\n",
              "      border-right-color: var(--fill-color);\n",
              "      border-bottom-color: var(--fill-color);\n",
              "    }\n",
              "    90% {\n",
              "      border-color: transparent;\n",
              "      border-bottom-color: var(--fill-color);\n",
              "    }\n",
              "  }\n",
              "</style>\n",
              "\n",
              "      <script>\n",
              "        async function quickchart(key) {\n",
              "          const quickchartButtonEl =\n",
              "            document.querySelector('#' + key + ' button');\n",
              "          quickchartButtonEl.disabled = true;  // To prevent multiple clicks.\n",
              "          quickchartButtonEl.classList.add('colab-df-spinner');\n",
              "          try {\n",
              "            const charts = await google.colab.kernel.invokeFunction(\n",
              "                'suggestCharts', [key], {});\n",
              "          } catch (error) {\n",
              "            console.error('Error during call to suggestCharts:', error);\n",
              "          }\n",
              "          quickchartButtonEl.classList.remove('colab-df-spinner');\n",
              "          quickchartButtonEl.classList.add('colab-df-quickchart-complete');\n",
              "        }\n",
              "        (() => {\n",
              "          let quickchartButtonEl =\n",
              "            document.querySelector('#df-632d1ee8-8567-42f1-8b97-6fd162fa2750 button');\n",
              "          quickchartButtonEl.style.display =\n",
              "            google.colab.kernel.accessAllowed ? 'block' : 'none';\n",
              "        })();\n",
              "      </script>\n",
              "    </div>\n",
              "\n",
              "    </div>\n",
              "  </div>\n"
            ],
            "application/vnd.google.colaboratory.intrinsic+json": {
              "type": "dataframe",
              "summary": "{\n  \"name\": \"df\",\n  \"rows\": 5,\n  \"fields\": [\n    {\n      \"column\": \"Unnamed: 0\",\n      \"properties\": {\n        \"dtype\": \"number\",\n        \"std\": 1,\n        \"min\": 951,\n        \"max\": 955,\n        \"num_unique_values\": 5,\n        \"samples\": [\n          952,\n          955,\n          953\n        ],\n        \"semantic_type\": \"\",\n        \"description\": \"\"\n      }\n    },\n    {\n      \"column\": \"Job Title\",\n      \"properties\": {\n        \"dtype\": \"string\",\n        \"num_unique_values\": 5,\n        \"samples\": [\n          \"Project Scientist - Auton Lab, Robotics Institute\",\n          \"Research Scientist \\u2013 Security and Privacy\",\n          \"Data Science Manager\"\n        ],\n        \"semantic_type\": \"\",\n        \"description\": \"\"\n      }\n    },\n    {\n      \"column\": \"Salary Estimate\",\n      \"properties\": {\n        \"dtype\": \"string\",\n        \"num_unique_values\": 5,\n        \"samples\": [\n          \"$56K-$91K (Glassdoor est.)\",\n          \"$61K-$126K (Glassdoor est.)\",\n          \"$95K-$160K (Glassdoor est.)\"\n        ],\n        \"semantic_type\": \"\",\n        \"description\": \"\"\n      }\n    },\n    {\n      \"column\": \"Job Description\",\n      \"properties\": {\n        \"dtype\": \"string\",\n        \"num_unique_values\": 5,\n        \"samples\": [\n          \"The Auton Lab at Carnegie Mellon University is a large academic group driven by a desire to make a real-world difference in a broad range of research interests. The areas of our current focus include, but are not limited to, modeling complex temporal and sequential data, structural learning, incorporating diverse feedback, interactive network science and human-machine interaction. We are always interested in finding ways to make Artificial Intelligence more accessible, beneficial and affordable to everyone. The areas of our current application interests include healthcare in clinical, managerial, and new sensing modalities contexts, radiation safety, countering human trafficking, agriculture, predictive maintenance of equipment, multi-modal data analytics, etc.\\n\\nWe are seeking a Project Scientist to join us in the Auton Lab. In this role, you will act as a team leader for specific areas of research projects in applied data science. Working with principal investigator(s), you will prioritize project goals based on overall organizational goals. You will contribute significantly in the development and documentation of research finding and as a major collaborator of scientific papers. There will be frequent opportunities to present research finding to current or potential sponsors and at major national and international conferences.\\n\\nCore responsibilities will include:\\nPreparing data, developing models, and producing research findings\\nContributing to project management and maintenance of customer relationships\\nDocumenting research findings, producing reports and synthetic summaries\\nContributing to scientific publications\\nWorking with principal investigator(s) to formulate research goals and plans\\nPreparing and delivering presentation of research findings\\nQualifications:\\nPhD in machine learning, applied mathematics, statistics, computer science, or other relevant field or equivalent combination of training and experience preferred\\n10-15 years of Research Experience required\\nProven technical background\\nExperience in analyzing of data at scale, proven hands-on model development\\nFlexibility, excellence, and passion are vital qualities within Auton Lab. Inclusion, collaboration and cultural sensitivity are valued proficiencies at CMU. Therefore, we are in search of a team member who is able to effectively interact with a varied population of internal and external partners at a high level of integrity. We are especially interested in qualified candidates who can contribute through their work/life experiences to the diversity and excellence of the academic community.\\n\\nYou should demonstrate:\\nExcellent communication skills\\nAbility to work optimally in a team\\nAre you interested in this opportunity with us? Please apply.\\n\\nMore Information:\\n\\nPlease visit \\u201cWhy Carnegie Mellon\\u201d to learn more about becoming part of an institution inspiring innovations that change the world.\\n\\nA listing of employee benefits is available at: www.cmu.edu/jobs/benefits-at-a-glance/.\\n\\nCarnegie Mellon University is an Equal Opportunity Employer/Disability/Veteran.\",\n          \"Returning Candidate? Log back in to the Career Portal and click on 'Job Browsing/History' and find the job you're looking for.\\n\\n2019-024-OIC: Research Scientist \\u2013 Security and Privacy\\n\\nDirectorate Open Innovation Center\\nLocation Beavercreek, OH\\nIf you want help develop the future technology to ensure security and privacy, Riverside Research\\u2019s Trusted and Resilient Systems group is the place for you. We are searching for an individual to join our research group to help shape a more secure future. The team has ongoing research in security of machine learning, cryptography, hardware and hypervisor security solutions, as well as developing cutting edge solutions to the security of open architecture systems. The ideal person for this position is passionate about many diverse areas technology and can leverage their interests to develop and study creative solutions to some of the most difficult challenges. The current team resides in Riverside Research\\u2019s Beavercreek, OH, but we are willing to consider candidates that would prefer to work out of one of our Washington DC (Centerville or Crystal City) offices, our New York City office, or our Boston office.\\n\\nJob Responsibilities:\\n\\u2022Work with a team of highly skilled researchers to develop interesting and novel solutions to security and privacy problems\\n\\u2022Publish and present research in conferences and journals\\n\\u2022Work with the team to identify future areas of research investment and develop research plans\\n\\u2022Assist with writing technical proposals\\n\\nQualifications:\\n\\u2022Ability to obtain and maintain TS/SCI security clearance\\n\\u2022Bachelor's or Master's degree with significant experience in security privacy research\\n\\u2022Prior experience developing software\\n\\u2022Ability to work independently and with a team\\n\\u2022Superior written and verbal communication skills\\nDesired Qualifications:\\n\\n\\u2022Python\\n\\u2022Web development (we use React)\\n\\u2022Revision control (we use Git)\\n\\u2022Machine learning\\n\\u2022Cryptography\\n\\u2022Prior experience with government funded research\\n\\nRiverside Research strives to be one of America\\u2019s premier providers of independent, trusted technical and scientific expertise. As we continue to add experienced, technically astute staff, we are looking for highly motivated, talented team members that can help our DoD and Intelligence Community (IC) customers continue delivery of world class programs. As a not-for-profit, technology-oriented Defense Company, we believe service to customers and support of our staff is our mission. Our goal is to serve as a destination company by providing an industry-leading, positive, and rewarding employee experience for all who join us. We aspire to be a valued partner to our customers and to earn their trust through our unwavering commitment to achieve timely, innovative, cost-effective and mission-focused solutions.\\n\\nAll positions at Riverside Research are subject to background investigations. Employment is contingent upon successful completion of a background investigation including criminal history and identity check.\\n\\nThis contractor and subcontractor shall abide by the requirements of 41 CFR 60-741.5(a). This regulation prohibits discrimination against qualified individuals on the basis of disability, and requires affirmative action by covered prime contractors and subcontractors to employ and advance in employment qualified individuals with disabilities.\\n\\nThis contractor and subcontractor shall abide by the requirements of 41 CFR 60-300.5(a). This regulation prohibits discrimination against qualified protected veterans, and requires affirmative action by covered contractors and subcontractors to employ and advance in employment qualified protected veterans.\\n\\nApply Now\",\n          \"Data Science ManagerResponsibilities:\\n\\nOversee a team of Data Scientists and Data Visualization Analysts who transform enterprise data into value drive insights\\n\\nDesign and implement processes for complex large-scale datasets for data mining, predictive modeling, and research purposes\\n\\nServe as an advisor for business stakeholders identifying data needs and explaining the importance and use of data applicable to their usage\\n\\nOversee development of a style guide detailing best practices standards for data visualization\\n\\nManage the intake process of analytics projects, measure value, and prioritize projects\\n\\nAlign the department as a customer-oriented service providing insights and information\\n\\nCoach and mentor team providing specific, timely and constructive feedback\\n\\nProvide day-to-day leadership and operational management in area of responsibility\\n\\nExecute objective, plans, and policies in line with enterprise level strategy\\n\\nProactively find new opportunities to leverage technology for continuous improvement and greater efficiency\\n\\nContribute to budget development and assist in preparation of operational plans for department\\n\\nOversee area of responsibility to adhere to approved budgets\\n\\nMS degree in a quantitative discipline plus a minimum of 5 years of professional work experience\\n\\nMinimum of 3 years of management experience\\n\\nProfessional work experience with R and advanced statistical modeling techniques including machine learning techniques\\n\\nExcellent oral and written communication skills\\n\\nExcitement, curiosity and passion for shaping the future through digital technology\\n\\nUS Citizenship or green card required\"\n        ],\n        \"semantic_type\": \"\",\n        \"description\": \"\"\n      }\n    },\n    {\n      \"column\": \"Rating\",\n      \"properties\": {\n        \"dtype\": \"number\",\n        \"std\": 0.8899438184514795,\n        \"min\": 2.6,\n        \"max\": 4.8,\n        \"num_unique_values\": 5,\n        \"samples\": [\n          2.6,\n          3.6,\n          3.2\n        ],\n        \"semantic_type\": \"\",\n        \"description\": \"\"\n      }\n    },\n    {\n      \"column\": \"Company Name\",\n      \"properties\": {\n        \"dtype\": \"string\",\n        \"num_unique_values\": 5,\n        \"samples\": [\n          \"Software Engineering Institute\\n2.6\",\n          \"Riverside Research Institute\\n3.6\",\n          \"Numeric, LLC\\n3.2\"\n        ],\n        \"semantic_type\": \"\",\n        \"description\": \"\"\n      }\n    },\n    {\n      \"column\": \"Location\",\n      \"properties\": {\n        \"dtype\": \"string\",\n        \"num_unique_values\": 5,\n        \"samples\": [\n          \"Pittsburgh, PA\",\n          \"Beavercreek, OH\",\n          \"Allentown, PA\"\n        ],\n        \"semantic_type\": \"\",\n        \"description\": \"\"\n      }\n    },\n    {\n      \"column\": \"Headquarters\",\n      \"properties\": {\n        \"dtype\": \"string\",\n        \"num_unique_values\": 5,\n        \"samples\": [\n          \"Pittsburgh, PA\",\n          \"Arlington, VA\",\n          \"Chadds Ford, PA\"\n        ],\n        \"semantic_type\": \"\",\n        \"description\": \"\"\n      }\n    },\n    {\n      \"column\": \"Size\",\n      \"properties\": {\n        \"dtype\": \"string\",\n        \"num_unique_values\": 4,\n        \"samples\": [\n          \"501 to 1000 employees\",\n          \"201 to 500 employees\",\n          \"1001 to 5000 employees\"\n        ],\n        \"semantic_type\": \"\",\n        \"description\": \"\"\n      }\n    },\n    {\n      \"column\": \"Founded\",\n      \"properties\": {\n        \"dtype\": \"number\",\n        \"std\": 891,\n        \"min\": -1,\n        \"max\": 2015,\n        \"num_unique_values\": 5,\n        \"samples\": [\n          1984,\n          1967,\n          -1\n        ],\n        \"semantic_type\": \"\",\n        \"description\": \"\"\n      }\n    },\n    {\n      \"column\": \"Type of ownership\",\n      \"properties\": {\n        \"dtype\": \"string\",\n        \"num_unique_values\": 4,\n        \"samples\": [\n          \"College / University\",\n          \"Nonprofit Organization\",\n          \"Company - Public\"\n        ],\n        \"semantic_type\": \"\",\n        \"description\": \"\"\n      }\n    },\n    {\n      \"column\": \"Industry\",\n      \"properties\": {\n        \"dtype\": \"string\",\n        \"num_unique_values\": 5,\n        \"samples\": [\n          \"Colleges & Universities\",\n          \"Federal Agencies\",\n          \"Staffing & Outsourcing\"\n        ],\n        \"semantic_type\": \"\",\n        \"description\": \"\"\n      }\n    },\n    {\n      \"column\": \"Sector\",\n      \"properties\": {\n        \"dtype\": \"string\",\n        \"num_unique_values\": 4,\n        \"samples\": [\n          \"Education\",\n          \"Government\",\n          \"Information Technology\"\n        ],\n        \"semantic_type\": \"\",\n        \"description\": \"\"\n      }\n    },\n    {\n      \"column\": \"Revenue\",\n      \"properties\": {\n        \"dtype\": \"string\",\n        \"num_unique_values\": 5,\n        \"samples\": [\n          \"Unknown / Non-Applicable\",\n          \"$50 to $100 million (USD)\",\n          \"$5 to $10 million (USD)\"\n        ],\n        \"semantic_type\": \"\",\n        \"description\": \"\"\n      }\n    },\n    {\n      \"column\": \"Competitors\",\n      \"properties\": {\n        \"dtype\": \"string\",\n        \"num_unique_values\": 3,\n        \"samples\": [\n          \"See Tickets, TicketWeb, Vendini\",\n          \"-1\",\n          \"Slalom\"\n        ],\n        \"semantic_type\": \"\",\n        \"description\": \"\"\n      }\n    }\n  ]\n}"
            }
          },
          "metadata": {},
          "execution_count": 88
        }
      ]
    },
    {
      "cell_type": "code",
      "source": [
        "df.columns"
      ],
      "metadata": {
        "colab": {
          "base_uri": "https://localhost:8080/"
        },
        "id": "go5FmFCkGtcK",
        "outputId": "65425689-a395-4288-9f1a-d6d0fbc30252"
      },
      "execution_count": 89,
      "outputs": [
        {
          "output_type": "execute_result",
          "data": {
            "text/plain": [
              "Index(['Unnamed: 0', 'Job Title', 'Salary Estimate', 'Job Description',\n",
              "       'Rating', 'Company Name', 'Location', 'Headquarters', 'Size', 'Founded',\n",
              "       'Type of ownership', 'Industry', 'Sector', 'Revenue', 'Competitors'],\n",
              "      dtype='object')"
            ]
          },
          "metadata": {},
          "execution_count": 89
        }
      ]
    },
    {
      "cell_type": "code",
      "source": [
        "df.shape"
      ],
      "metadata": {
        "colab": {
          "base_uri": "https://localhost:8080/"
        },
        "id": "60KPFsniJcu7",
        "outputId": "0153d6bd-019a-4a4f-f164-684c1915f5e6"
      },
      "execution_count": 90,
      "outputs": [
        {
          "output_type": "execute_result",
          "data": {
            "text/plain": [
              "(956, 15)"
            ]
          },
          "metadata": {},
          "execution_count": 90
        }
      ]
    },
    {
      "cell_type": "code",
      "source": [
        "df.isnull().sum()"
      ],
      "metadata": {
        "colab": {
          "base_uri": "https://localhost:8080/",
          "height": 554
        },
        "id": "p9luznnCJcgJ",
        "outputId": "89a41112-a69e-4525-add6-b8e924dc682a"
      },
      "execution_count": 91,
      "outputs": [
        {
          "output_type": "execute_result",
          "data": {
            "text/plain": [
              "Unnamed: 0           0\n",
              "Job Title            0\n",
              "Salary Estimate      0\n",
              "Job Description      0\n",
              "Rating               0\n",
              "Company Name         0\n",
              "Location             0\n",
              "Headquarters         0\n",
              "Size                 0\n",
              "Founded              0\n",
              "Type of ownership    0\n",
              "Industry             0\n",
              "Sector               0\n",
              "Revenue              0\n",
              "Competitors          0\n",
              "dtype: int64"
            ],
            "text/html": [
              "<div>\n",
              "<style scoped>\n",
              "    .dataframe tbody tr th:only-of-type {\n",
              "        vertical-align: middle;\n",
              "    }\n",
              "\n",
              "    .dataframe tbody tr th {\n",
              "        vertical-align: top;\n",
              "    }\n",
              "\n",
              "    .dataframe thead th {\n",
              "        text-align: right;\n",
              "    }\n",
              "</style>\n",
              "<table border=\"1\" class=\"dataframe\">\n",
              "  <thead>\n",
              "    <tr style=\"text-align: right;\">\n",
              "      <th></th>\n",
              "      <th>0</th>\n",
              "    </tr>\n",
              "  </thead>\n",
              "  <tbody>\n",
              "    <tr>\n",
              "      <th>Unnamed: 0</th>\n",
              "      <td>0</td>\n",
              "    </tr>\n",
              "    <tr>\n",
              "      <th>Job Title</th>\n",
              "      <td>0</td>\n",
              "    </tr>\n",
              "    <tr>\n",
              "      <th>Salary Estimate</th>\n",
              "      <td>0</td>\n",
              "    </tr>\n",
              "    <tr>\n",
              "      <th>Job Description</th>\n",
              "      <td>0</td>\n",
              "    </tr>\n",
              "    <tr>\n",
              "      <th>Rating</th>\n",
              "      <td>0</td>\n",
              "    </tr>\n",
              "    <tr>\n",
              "      <th>Company Name</th>\n",
              "      <td>0</td>\n",
              "    </tr>\n",
              "    <tr>\n",
              "      <th>Location</th>\n",
              "      <td>0</td>\n",
              "    </tr>\n",
              "    <tr>\n",
              "      <th>Headquarters</th>\n",
              "      <td>0</td>\n",
              "    </tr>\n",
              "    <tr>\n",
              "      <th>Size</th>\n",
              "      <td>0</td>\n",
              "    </tr>\n",
              "    <tr>\n",
              "      <th>Founded</th>\n",
              "      <td>0</td>\n",
              "    </tr>\n",
              "    <tr>\n",
              "      <th>Type of ownership</th>\n",
              "      <td>0</td>\n",
              "    </tr>\n",
              "    <tr>\n",
              "      <th>Industry</th>\n",
              "      <td>0</td>\n",
              "    </tr>\n",
              "    <tr>\n",
              "      <th>Sector</th>\n",
              "      <td>0</td>\n",
              "    </tr>\n",
              "    <tr>\n",
              "      <th>Revenue</th>\n",
              "      <td>0</td>\n",
              "    </tr>\n",
              "    <tr>\n",
              "      <th>Competitors</th>\n",
              "      <td>0</td>\n",
              "    </tr>\n",
              "  </tbody>\n",
              "</table>\n",
              "</div><br><label><b>dtype:</b> int64</label>"
            ]
          },
          "metadata": {},
          "execution_count": 91
        }
      ]
    },
    {
      "cell_type": "code",
      "source": [
        "df.info()"
      ],
      "metadata": {
        "colab": {
          "base_uri": "https://localhost:8080/"
        },
        "id": "r8CBsAg7JcRT",
        "outputId": "1ec22bdb-0981-4ada-ed06-52e76994801a"
      },
      "execution_count": 92,
      "outputs": [
        {
          "output_type": "stream",
          "name": "stdout",
          "text": [
            "<class 'pandas.core.frame.DataFrame'>\n",
            "RangeIndex: 956 entries, 0 to 955\n",
            "Data columns (total 15 columns):\n",
            " #   Column             Non-Null Count  Dtype  \n",
            "---  ------             --------------  -----  \n",
            " 0   Unnamed: 0         956 non-null    int64  \n",
            " 1   Job Title          956 non-null    object \n",
            " 2   Salary Estimate    956 non-null    object \n",
            " 3   Job Description    956 non-null    object \n",
            " 4   Rating             956 non-null    float64\n",
            " 5   Company Name       956 non-null    object \n",
            " 6   Location           956 non-null    object \n",
            " 7   Headquarters       956 non-null    object \n",
            " 8   Size               956 non-null    object \n",
            " 9   Founded            956 non-null    int64  \n",
            " 10  Type of ownership  956 non-null    object \n",
            " 11  Industry           956 non-null    object \n",
            " 12  Sector             956 non-null    object \n",
            " 13  Revenue            956 non-null    object \n",
            " 14  Competitors        956 non-null    object \n",
            "dtypes: float64(1), int64(2), object(12)\n",
            "memory usage: 112.2+ KB\n"
          ]
        }
      ]
    },
    {
      "cell_type": "code",
      "source": [
        "df.describe(include='all').T"
      ],
      "metadata": {
        "colab": {
          "base_uri": "https://localhost:8080/",
          "height": 519
        },
        "id": "XNMWmSl2Gwop",
        "outputId": "d19fc4e1-6139-4997-aded-0e61500da9a0"
      },
      "execution_count": 93,
      "outputs": [
        {
          "output_type": "execute_result",
          "data": {
            "text/plain": [
              "                   count unique  \\\n",
              "Unnamed: 0         956.0    NaN   \n",
              "Job Title            956    328   \n",
              "Salary Estimate      956    417   \n",
              "Job Description      956    596   \n",
              "Rating             956.0    NaN   \n",
              "Company Name         956    448   \n",
              "Location             956    237   \n",
              "Headquarters         956    235   \n",
              "Size                 956      9   \n",
              "Founded            956.0    NaN   \n",
              "Type of ownership    956     13   \n",
              "Industry             956     63   \n",
              "Sector               956     25   \n",
              "Revenue              956     14   \n",
              "Competitors          956    149   \n",
              "\n",
              "                                                                 top freq  \\\n",
              "Unnamed: 0                                                       NaN  NaN   \n",
              "Job Title                                             Data Scientist  178   \n",
              "Salary Estimate                                                   -1  214   \n",
              "Job Description    Data Engineer with R\\n\\n-Contract Role in Atla...    4   \n",
              "Rating                                                           NaN  NaN   \n",
              "Company Name                             Takeda Pharmaceuticals\\n3.7   14   \n",
              "Location                                                New York, NY   78   \n",
              "Headquarters                                            New York, NY   75   \n",
              "Size                                          1001 to 5000 employees  177   \n",
              "Founded                                                          NaN  NaN   \n",
              "Type of ownership                                  Company - Private  532   \n",
              "Industry                                   Biotech & Pharmaceuticals  148   \n",
              "Sector                                        Information Technology  239   \n",
              "Revenue                                     Unknown / Non-Applicable  299   \n",
              "Competitors                                                       -1  634   \n",
              "\n",
              "                          mean         std  min     25%     50%     75%  \\\n",
              "Unnamed: 0               477.5  276.117729  0.0  238.75   477.5  716.25   \n",
              "Job Title                  NaN         NaN  NaN     NaN     NaN     NaN   \n",
              "Salary Estimate            NaN         NaN  NaN     NaN     NaN     NaN   \n",
              "Job Description            NaN         NaN  NaN     NaN     NaN     NaN   \n",
              "Rating                3.601255    1.067619 -1.0     3.3     3.8     4.2   \n",
              "Company Name               NaN         NaN  NaN     NaN     NaN     NaN   \n",
              "Location                   NaN         NaN  NaN     NaN     NaN     NaN   \n",
              "Headquarters               NaN         NaN  NaN     NaN     NaN     NaN   \n",
              "Size                       NaN         NaN  NaN     NaN     NaN     NaN   \n",
              "Founded            1774.605649  598.942517 -1.0  1937.0  1992.0  2008.0   \n",
              "Type of ownership          NaN         NaN  NaN     NaN     NaN     NaN   \n",
              "Industry                   NaN         NaN  NaN     NaN     NaN     NaN   \n",
              "Sector                     NaN         NaN  NaN     NaN     NaN     NaN   \n",
              "Revenue                    NaN         NaN  NaN     NaN     NaN     NaN   \n",
              "Competitors                NaN         NaN  NaN     NaN     NaN     NaN   \n",
              "\n",
              "                      max  \n",
              "Unnamed: 0          955.0  \n",
              "Job Title             NaN  \n",
              "Salary Estimate       NaN  \n",
              "Job Description       NaN  \n",
              "Rating                5.0  \n",
              "Company Name          NaN  \n",
              "Location              NaN  \n",
              "Headquarters          NaN  \n",
              "Size                  NaN  \n",
              "Founded            2019.0  \n",
              "Type of ownership     NaN  \n",
              "Industry              NaN  \n",
              "Sector                NaN  \n",
              "Revenue               NaN  \n",
              "Competitors           NaN  "
            ],
            "text/html": [
              "\n",
              "  <div id=\"df-1e1f317a-58b2-4d4f-9332-e2c6720cf5c9\" class=\"colab-df-container\">\n",
              "    <div>\n",
              "<style scoped>\n",
              "    .dataframe tbody tr th:only-of-type {\n",
              "        vertical-align: middle;\n",
              "    }\n",
              "\n",
              "    .dataframe tbody tr th {\n",
              "        vertical-align: top;\n",
              "    }\n",
              "\n",
              "    .dataframe thead th {\n",
              "        text-align: right;\n",
              "    }\n",
              "</style>\n",
              "<table border=\"1\" class=\"dataframe\">\n",
              "  <thead>\n",
              "    <tr style=\"text-align: right;\">\n",
              "      <th></th>\n",
              "      <th>count</th>\n",
              "      <th>unique</th>\n",
              "      <th>top</th>\n",
              "      <th>freq</th>\n",
              "      <th>mean</th>\n",
              "      <th>std</th>\n",
              "      <th>min</th>\n",
              "      <th>25%</th>\n",
              "      <th>50%</th>\n",
              "      <th>75%</th>\n",
              "      <th>max</th>\n",
              "    </tr>\n",
              "  </thead>\n",
              "  <tbody>\n",
              "    <tr>\n",
              "      <th>Unnamed: 0</th>\n",
              "      <td>956.0</td>\n",
              "      <td>NaN</td>\n",
              "      <td>NaN</td>\n",
              "      <td>NaN</td>\n",
              "      <td>477.5</td>\n",
              "      <td>276.117729</td>\n",
              "      <td>0.0</td>\n",
              "      <td>238.75</td>\n",
              "      <td>477.5</td>\n",
              "      <td>716.25</td>\n",
              "      <td>955.0</td>\n",
              "    </tr>\n",
              "    <tr>\n",
              "      <th>Job Title</th>\n",
              "      <td>956</td>\n",
              "      <td>328</td>\n",
              "      <td>Data Scientist</td>\n",
              "      <td>178</td>\n",
              "      <td>NaN</td>\n",
              "      <td>NaN</td>\n",
              "      <td>NaN</td>\n",
              "      <td>NaN</td>\n",
              "      <td>NaN</td>\n",
              "      <td>NaN</td>\n",
              "      <td>NaN</td>\n",
              "    </tr>\n",
              "    <tr>\n",
              "      <th>Salary Estimate</th>\n",
              "      <td>956</td>\n",
              "      <td>417</td>\n",
              "      <td>-1</td>\n",
              "      <td>214</td>\n",
              "      <td>NaN</td>\n",
              "      <td>NaN</td>\n",
              "      <td>NaN</td>\n",
              "      <td>NaN</td>\n",
              "      <td>NaN</td>\n",
              "      <td>NaN</td>\n",
              "      <td>NaN</td>\n",
              "    </tr>\n",
              "    <tr>\n",
              "      <th>Job Description</th>\n",
              "      <td>956</td>\n",
              "      <td>596</td>\n",
              "      <td>Data Engineer with R\\n\\n-Contract Role in Atla...</td>\n",
              "      <td>4</td>\n",
              "      <td>NaN</td>\n",
              "      <td>NaN</td>\n",
              "      <td>NaN</td>\n",
              "      <td>NaN</td>\n",
              "      <td>NaN</td>\n",
              "      <td>NaN</td>\n",
              "      <td>NaN</td>\n",
              "    </tr>\n",
              "    <tr>\n",
              "      <th>Rating</th>\n",
              "      <td>956.0</td>\n",
              "      <td>NaN</td>\n",
              "      <td>NaN</td>\n",
              "      <td>NaN</td>\n",
              "      <td>3.601255</td>\n",
              "      <td>1.067619</td>\n",
              "      <td>-1.0</td>\n",
              "      <td>3.3</td>\n",
              "      <td>3.8</td>\n",
              "      <td>4.2</td>\n",
              "      <td>5.0</td>\n",
              "    </tr>\n",
              "    <tr>\n",
              "      <th>Company Name</th>\n",
              "      <td>956</td>\n",
              "      <td>448</td>\n",
              "      <td>Takeda Pharmaceuticals\\n3.7</td>\n",
              "      <td>14</td>\n",
              "      <td>NaN</td>\n",
              "      <td>NaN</td>\n",
              "      <td>NaN</td>\n",
              "      <td>NaN</td>\n",
              "      <td>NaN</td>\n",
              "      <td>NaN</td>\n",
              "      <td>NaN</td>\n",
              "    </tr>\n",
              "    <tr>\n",
              "      <th>Location</th>\n",
              "      <td>956</td>\n",
              "      <td>237</td>\n",
              "      <td>New York, NY</td>\n",
              "      <td>78</td>\n",
              "      <td>NaN</td>\n",
              "      <td>NaN</td>\n",
              "      <td>NaN</td>\n",
              "      <td>NaN</td>\n",
              "      <td>NaN</td>\n",
              "      <td>NaN</td>\n",
              "      <td>NaN</td>\n",
              "    </tr>\n",
              "    <tr>\n",
              "      <th>Headquarters</th>\n",
              "      <td>956</td>\n",
              "      <td>235</td>\n",
              "      <td>New York, NY</td>\n",
              "      <td>75</td>\n",
              "      <td>NaN</td>\n",
              "      <td>NaN</td>\n",
              "      <td>NaN</td>\n",
              "      <td>NaN</td>\n",
              "      <td>NaN</td>\n",
              "      <td>NaN</td>\n",
              "      <td>NaN</td>\n",
              "    </tr>\n",
              "    <tr>\n",
              "      <th>Size</th>\n",
              "      <td>956</td>\n",
              "      <td>9</td>\n",
              "      <td>1001 to 5000 employees</td>\n",
              "      <td>177</td>\n",
              "      <td>NaN</td>\n",
              "      <td>NaN</td>\n",
              "      <td>NaN</td>\n",
              "      <td>NaN</td>\n",
              "      <td>NaN</td>\n",
              "      <td>NaN</td>\n",
              "      <td>NaN</td>\n",
              "    </tr>\n",
              "    <tr>\n",
              "      <th>Founded</th>\n",
              "      <td>956.0</td>\n",
              "      <td>NaN</td>\n",
              "      <td>NaN</td>\n",
              "      <td>NaN</td>\n",
              "      <td>1774.605649</td>\n",
              "      <td>598.942517</td>\n",
              "      <td>-1.0</td>\n",
              "      <td>1937.0</td>\n",
              "      <td>1992.0</td>\n",
              "      <td>2008.0</td>\n",
              "      <td>2019.0</td>\n",
              "    </tr>\n",
              "    <tr>\n",
              "      <th>Type of ownership</th>\n",
              "      <td>956</td>\n",
              "      <td>13</td>\n",
              "      <td>Company - Private</td>\n",
              "      <td>532</td>\n",
              "      <td>NaN</td>\n",
              "      <td>NaN</td>\n",
              "      <td>NaN</td>\n",
              "      <td>NaN</td>\n",
              "      <td>NaN</td>\n",
              "      <td>NaN</td>\n",
              "      <td>NaN</td>\n",
              "    </tr>\n",
              "    <tr>\n",
              "      <th>Industry</th>\n",
              "      <td>956</td>\n",
              "      <td>63</td>\n",
              "      <td>Biotech &amp; Pharmaceuticals</td>\n",
              "      <td>148</td>\n",
              "      <td>NaN</td>\n",
              "      <td>NaN</td>\n",
              "      <td>NaN</td>\n",
              "      <td>NaN</td>\n",
              "      <td>NaN</td>\n",
              "      <td>NaN</td>\n",
              "      <td>NaN</td>\n",
              "    </tr>\n",
              "    <tr>\n",
              "      <th>Sector</th>\n",
              "      <td>956</td>\n",
              "      <td>25</td>\n",
              "      <td>Information Technology</td>\n",
              "      <td>239</td>\n",
              "      <td>NaN</td>\n",
              "      <td>NaN</td>\n",
              "      <td>NaN</td>\n",
              "      <td>NaN</td>\n",
              "      <td>NaN</td>\n",
              "      <td>NaN</td>\n",
              "      <td>NaN</td>\n",
              "    </tr>\n",
              "    <tr>\n",
              "      <th>Revenue</th>\n",
              "      <td>956</td>\n",
              "      <td>14</td>\n",
              "      <td>Unknown / Non-Applicable</td>\n",
              "      <td>299</td>\n",
              "      <td>NaN</td>\n",
              "      <td>NaN</td>\n",
              "      <td>NaN</td>\n",
              "      <td>NaN</td>\n",
              "      <td>NaN</td>\n",
              "      <td>NaN</td>\n",
              "      <td>NaN</td>\n",
              "    </tr>\n",
              "    <tr>\n",
              "      <th>Competitors</th>\n",
              "      <td>956</td>\n",
              "      <td>149</td>\n",
              "      <td>-1</td>\n",
              "      <td>634</td>\n",
              "      <td>NaN</td>\n",
              "      <td>NaN</td>\n",
              "      <td>NaN</td>\n",
              "      <td>NaN</td>\n",
              "      <td>NaN</td>\n",
              "      <td>NaN</td>\n",
              "      <td>NaN</td>\n",
              "    </tr>\n",
              "  </tbody>\n",
              "</table>\n",
              "</div>\n",
              "    <div class=\"colab-df-buttons\">\n",
              "\n",
              "  <div class=\"colab-df-container\">\n",
              "    <button class=\"colab-df-convert\" onclick=\"convertToInteractive('df-1e1f317a-58b2-4d4f-9332-e2c6720cf5c9')\"\n",
              "            title=\"Convert this dataframe to an interactive table.\"\n",
              "            style=\"display:none;\">\n",
              "\n",
              "  <svg xmlns=\"http://www.w3.org/2000/svg\" height=\"24px\" viewBox=\"0 -960 960 960\">\n",
              "    <path d=\"M120-120v-720h720v720H120Zm60-500h600v-160H180v160Zm220 220h160v-160H400v160Zm0 220h160v-160H400v160ZM180-400h160v-160H180v160Zm440 0h160v-160H620v160ZM180-180h160v-160H180v160Zm440 0h160v-160H620v160Z\"/>\n",
              "  </svg>\n",
              "    </button>\n",
              "\n",
              "  <style>\n",
              "    .colab-df-container {\n",
              "      display:flex;\n",
              "      gap: 12px;\n",
              "    }\n",
              "\n",
              "    .colab-df-convert {\n",
              "      background-color: #E8F0FE;\n",
              "      border: none;\n",
              "      border-radius: 50%;\n",
              "      cursor: pointer;\n",
              "      display: none;\n",
              "      fill: #1967D2;\n",
              "      height: 32px;\n",
              "      padding: 0 0 0 0;\n",
              "      width: 32px;\n",
              "    }\n",
              "\n",
              "    .colab-df-convert:hover {\n",
              "      background-color: #E2EBFA;\n",
              "      box-shadow: 0px 1px 2px rgba(60, 64, 67, 0.3), 0px 1px 3px 1px rgba(60, 64, 67, 0.15);\n",
              "      fill: #174EA6;\n",
              "    }\n",
              "\n",
              "    .colab-df-buttons div {\n",
              "      margin-bottom: 4px;\n",
              "    }\n",
              "\n",
              "    [theme=dark] .colab-df-convert {\n",
              "      background-color: #3B4455;\n",
              "      fill: #D2E3FC;\n",
              "    }\n",
              "\n",
              "    [theme=dark] .colab-df-convert:hover {\n",
              "      background-color: #434B5C;\n",
              "      box-shadow: 0px 1px 3px 1px rgba(0, 0, 0, 0.15);\n",
              "      filter: drop-shadow(0px 1px 2px rgba(0, 0, 0, 0.3));\n",
              "      fill: #FFFFFF;\n",
              "    }\n",
              "  </style>\n",
              "\n",
              "    <script>\n",
              "      const buttonEl =\n",
              "        document.querySelector('#df-1e1f317a-58b2-4d4f-9332-e2c6720cf5c9 button.colab-df-convert');\n",
              "      buttonEl.style.display =\n",
              "        google.colab.kernel.accessAllowed ? 'block' : 'none';\n",
              "\n",
              "      async function convertToInteractive(key) {\n",
              "        const element = document.querySelector('#df-1e1f317a-58b2-4d4f-9332-e2c6720cf5c9');\n",
              "        const dataTable =\n",
              "          await google.colab.kernel.invokeFunction('convertToInteractive',\n",
              "                                                    [key], {});\n",
              "        if (!dataTable) return;\n",
              "\n",
              "        const docLinkHtml = 'Like what you see? Visit the ' +\n",
              "          '<a target=\"_blank\" href=https://colab.research.google.com/notebooks/data_table.ipynb>data table notebook</a>'\n",
              "          + ' to learn more about interactive tables.';\n",
              "        element.innerHTML = '';\n",
              "        dataTable['output_type'] = 'display_data';\n",
              "        await google.colab.output.renderOutput(dataTable, element);\n",
              "        const docLink = document.createElement('div');\n",
              "        docLink.innerHTML = docLinkHtml;\n",
              "        element.appendChild(docLink);\n",
              "      }\n",
              "    </script>\n",
              "  </div>\n",
              "\n",
              "\n",
              "    <div id=\"df-adb09ea3-f162-46ac-87d4-b0190d3c6bdd\">\n",
              "      <button class=\"colab-df-quickchart\" onclick=\"quickchart('df-adb09ea3-f162-46ac-87d4-b0190d3c6bdd')\"\n",
              "                title=\"Suggest charts\"\n",
              "                style=\"display:none;\">\n",
              "\n",
              "<svg xmlns=\"http://www.w3.org/2000/svg\" height=\"24px\"viewBox=\"0 0 24 24\"\n",
              "     width=\"24px\">\n",
              "    <g>\n",
              "        <path d=\"M19 3H5c-1.1 0-2 .9-2 2v14c0 1.1.9 2 2 2h14c1.1 0 2-.9 2-2V5c0-1.1-.9-2-2-2zM9 17H7v-7h2v7zm4 0h-2V7h2v10zm4 0h-2v-4h2v4z\"/>\n",
              "    </g>\n",
              "</svg>\n",
              "      </button>\n",
              "\n",
              "<style>\n",
              "  .colab-df-quickchart {\n",
              "      --bg-color: #E8F0FE;\n",
              "      --fill-color: #1967D2;\n",
              "      --hover-bg-color: #E2EBFA;\n",
              "      --hover-fill-color: #174EA6;\n",
              "      --disabled-fill-color: #AAA;\n",
              "      --disabled-bg-color: #DDD;\n",
              "  }\n",
              "\n",
              "  [theme=dark] .colab-df-quickchart {\n",
              "      --bg-color: #3B4455;\n",
              "      --fill-color: #D2E3FC;\n",
              "      --hover-bg-color: #434B5C;\n",
              "      --hover-fill-color: #FFFFFF;\n",
              "      --disabled-bg-color: #3B4455;\n",
              "      --disabled-fill-color: #666;\n",
              "  }\n",
              "\n",
              "  .colab-df-quickchart {\n",
              "    background-color: var(--bg-color);\n",
              "    border: none;\n",
              "    border-radius: 50%;\n",
              "    cursor: pointer;\n",
              "    display: none;\n",
              "    fill: var(--fill-color);\n",
              "    height: 32px;\n",
              "    padding: 0;\n",
              "    width: 32px;\n",
              "  }\n",
              "\n",
              "  .colab-df-quickchart:hover {\n",
              "    background-color: var(--hover-bg-color);\n",
              "    box-shadow: 0 1px 2px rgba(60, 64, 67, 0.3), 0 1px 3px 1px rgba(60, 64, 67, 0.15);\n",
              "    fill: var(--button-hover-fill-color);\n",
              "  }\n",
              "\n",
              "  .colab-df-quickchart-complete:disabled,\n",
              "  .colab-df-quickchart-complete:disabled:hover {\n",
              "    background-color: var(--disabled-bg-color);\n",
              "    fill: var(--disabled-fill-color);\n",
              "    box-shadow: none;\n",
              "  }\n",
              "\n",
              "  .colab-df-spinner {\n",
              "    border: 2px solid var(--fill-color);\n",
              "    border-color: transparent;\n",
              "    border-bottom-color: var(--fill-color);\n",
              "    animation:\n",
              "      spin 1s steps(1) infinite;\n",
              "  }\n",
              "\n",
              "  @keyframes spin {\n",
              "    0% {\n",
              "      border-color: transparent;\n",
              "      border-bottom-color: var(--fill-color);\n",
              "      border-left-color: var(--fill-color);\n",
              "    }\n",
              "    20% {\n",
              "      border-color: transparent;\n",
              "      border-left-color: var(--fill-color);\n",
              "      border-top-color: var(--fill-color);\n",
              "    }\n",
              "    30% {\n",
              "      border-color: transparent;\n",
              "      border-left-color: var(--fill-color);\n",
              "      border-top-color: var(--fill-color);\n",
              "      border-right-color: var(--fill-color);\n",
              "    }\n",
              "    40% {\n",
              "      border-color: transparent;\n",
              "      border-right-color: var(--fill-color);\n",
              "      border-top-color: var(--fill-color);\n",
              "    }\n",
              "    60% {\n",
              "      border-color: transparent;\n",
              "      border-right-color: var(--fill-color);\n",
              "    }\n",
              "    80% {\n",
              "      border-color: transparent;\n",
              "      border-right-color: var(--fill-color);\n",
              "      border-bottom-color: var(--fill-color);\n",
              "    }\n",
              "    90% {\n",
              "      border-color: transparent;\n",
              "      border-bottom-color: var(--fill-color);\n",
              "    }\n",
              "  }\n",
              "</style>\n",
              "\n",
              "      <script>\n",
              "        async function quickchart(key) {\n",
              "          const quickchartButtonEl =\n",
              "            document.querySelector('#' + key + ' button');\n",
              "          quickchartButtonEl.disabled = true;  // To prevent multiple clicks.\n",
              "          quickchartButtonEl.classList.add('colab-df-spinner');\n",
              "          try {\n",
              "            const charts = await google.colab.kernel.invokeFunction(\n",
              "                'suggestCharts', [key], {});\n",
              "          } catch (error) {\n",
              "            console.error('Error during call to suggestCharts:', error);\n",
              "          }\n",
              "          quickchartButtonEl.classList.remove('colab-df-spinner');\n",
              "          quickchartButtonEl.classList.add('colab-df-quickchart-complete');\n",
              "        }\n",
              "        (() => {\n",
              "          let quickchartButtonEl =\n",
              "            document.querySelector('#df-adb09ea3-f162-46ac-87d4-b0190d3c6bdd button');\n",
              "          quickchartButtonEl.style.display =\n",
              "            google.colab.kernel.accessAllowed ? 'block' : 'none';\n",
              "        })();\n",
              "      </script>\n",
              "    </div>\n",
              "\n",
              "    </div>\n",
              "  </div>\n"
            ],
            "application/vnd.google.colaboratory.intrinsic+json": {
              "type": "dataframe",
              "summary": "{\n  \"name\": \"df\",\n  \"rows\": 15,\n  \"fields\": [\n    {\n      \"column\": \"count\",\n      \"properties\": {\n        \"dtype\": \"date\",\n        \"min\": 956.0,\n        \"max\": 956.0,\n        \"num_unique_values\": 1,\n        \"samples\": [\n          956.0\n        ],\n        \"semantic_type\": \"\",\n        \"description\": \"\"\n      }\n    },\n    {\n      \"column\": \"unique\",\n      \"properties\": {\n        \"dtype\": \"date\",\n        \"min\": 9,\n        \"max\": 596,\n        \"num_unique_values\": 12,\n        \"samples\": [\n          14\n        ],\n        \"semantic_type\": \"\",\n        \"description\": \"\"\n      }\n    },\n    {\n      \"column\": \"top\",\n      \"properties\": {\n        \"dtype\": \"string\",\n        \"num_unique_values\": 10,\n        \"samples\": [\n          \"Information Technology\"\n        ],\n        \"semantic_type\": \"\",\n        \"description\": \"\"\n      }\n    },\n    {\n      \"column\": \"freq\",\n      \"properties\": {\n        \"dtype\": \"date\",\n        \"min\": \"4\",\n        \"max\": \"634\",\n        \"num_unique_values\": 12,\n        \"samples\": [\n          \"299\"\n        ],\n        \"semantic_type\": \"\",\n        \"description\": \"\"\n      }\n    },\n    {\n      \"column\": \"mean\",\n      \"properties\": {\n        \"dtype\": \"date\",\n        \"min\": 3.601255230125523,\n        \"max\": 1774.6056485355648,\n        \"num_unique_values\": 3,\n        \"samples\": [\n          477.5\n        ],\n        \"semantic_type\": \"\",\n        \"description\": \"\"\n      }\n    },\n    {\n      \"column\": \"std\",\n      \"properties\": {\n        \"dtype\": \"date\",\n        \"min\": 1.0676188182455826,\n        \"max\": 598.9425169120316,\n        \"num_unique_values\": 3,\n        \"samples\": [\n          276.1177285144871\n        ],\n        \"semantic_type\": \"\",\n        \"description\": \"\"\n      }\n    },\n    {\n      \"column\": \"min\",\n      \"properties\": {\n        \"dtype\": \"date\",\n        \"min\": -1.0,\n        \"max\": 0.0,\n        \"num_unique_values\": 2,\n        \"samples\": [\n          -1.0\n        ],\n        \"semantic_type\": \"\",\n        \"description\": \"\"\n      }\n    },\n    {\n      \"column\": \"25%\",\n      \"properties\": {\n        \"dtype\": \"date\",\n        \"min\": 3.3,\n        \"max\": 1937.0,\n        \"num_unique_values\": 3,\n        \"samples\": [\n          238.75\n        ],\n        \"semantic_type\": \"\",\n        \"description\": \"\"\n      }\n    },\n    {\n      \"column\": \"50%\",\n      \"properties\": {\n        \"dtype\": \"date\",\n        \"min\": 3.8,\n        \"max\": 1992.0,\n        \"num_unique_values\": 3,\n        \"samples\": [\n          477.5\n        ],\n        \"semantic_type\": \"\",\n        \"description\": \"\"\n      }\n    },\n    {\n      \"column\": \"75%\",\n      \"properties\": {\n        \"dtype\": \"date\",\n        \"min\": 4.2,\n        \"max\": 2008.0,\n        \"num_unique_values\": 3,\n        \"samples\": [\n          716.25\n        ],\n        \"semantic_type\": \"\",\n        \"description\": \"\"\n      }\n    },\n    {\n      \"column\": \"max\",\n      \"properties\": {\n        \"dtype\": \"date\",\n        \"min\": 5.0,\n        \"max\": 2019.0,\n        \"num_unique_values\": 3,\n        \"samples\": [\n          955.0\n        ],\n        \"semantic_type\": \"\",\n        \"description\": \"\"\n      }\n    }\n  ]\n}"
            }
          },
          "metadata": {},
          "execution_count": 93
        }
      ]
    },
    {
      "cell_type": "markdown",
      "source": [
        "**Remove rows without salary estimates**"
      ],
      "metadata": {
        "id": "Bhy-DGucJwc0"
      }
    },
    {
      "cell_type": "code",
      "source": [
        "df = df[df['Salary Estimate'] != '-1']"
      ],
      "metadata": {
        "id": "yM3lyGGrG5Gt"
      },
      "execution_count": 94,
      "outputs": []
    },
    {
      "cell_type": "markdown",
      "source": [
        "**Add salary type indicators**"
      ],
      "metadata": {
        "id": "pcJodXm7J6Pi"
      }
    },
    {
      "cell_type": "code",
      "source": [
        "df['hourly'] = df['Salary Estimate'].apply(lambda x: 1 if 'per hour' in x.lower() else 0)\n",
        "df['employer_provided'] = df['Salary Estimate'].apply(lambda x: 1 if 'employer provided salary:' in x.lower() else 0)"
      ],
      "metadata": {
        "id": "34I_bjEdG85i"
      },
      "execution_count": 95,
      "outputs": []
    },
    {
      "cell_type": "markdown",
      "source": [
        "**Clean salary text and extract min, max, avg salaries**"
      ],
      "metadata": {
        "id": "RUyq6kHVKB5v"
      }
    },
    {
      "cell_type": "code",
      "source": [
        "salary = df['Salary Estimate'].apply(lambda x: x.split('(')[0])\n",
        "salary = salary.str.replace('K', '', regex=False).str.replace('$', '', regex=False)\n",
        "salary = salary.str.lower().str.replace('per hour', '', regex=False).str.replace('employer provided salary:', '', regex=False)\n"
      ],
      "metadata": {
        "id": "Y72Pg14IG_8n"
      },
      "execution_count": 96,
      "outputs": []
    },
    {
      "cell_type": "markdown",
      "source": [
        "**Split salary into min and max**"
      ],
      "metadata": {
        "id": "2pJQl_6hKQL-"
      }
    },
    {
      "cell_type": "code",
      "source": [
        "salary = salary.str.strip()\n",
        "df['min_salary'] = salary.apply(lambda x: int(x.split('-')[0].strip()))\n",
        "df['max_salary'] = salary.apply(lambda x: int(x.split('-')[1].strip()))\n",
        "df['avg_salary'] = (df['min_salary'] + df['max_salary']) / 2"
      ],
      "metadata": {
        "id": "OEB4U_OnHDl4"
      },
      "execution_count": 97,
      "outputs": []
    },
    {
      "cell_type": "markdown",
      "source": [
        "**Simplify job titles**"
      ],
      "metadata": {
        "id": "2grvuOfzKZn-"
      }
    },
    {
      "cell_type": "code",
      "source": [
        "def simplify_title(title):\n",
        "    title = title.lower()\n",
        "    if 'data scientist' in title:\n",
        "        return 'Data Scientist'\n",
        "    elif 'data engineer' in title:\n",
        "        return 'Data Engineer'\n",
        "    elif 'analyst' in title:\n",
        "        return 'Analyst'\n",
        "    elif 'machine learning' in title:\n",
        "        return 'ML Engineer'\n",
        "    elif 'manager' in title:\n",
        "        return 'Manager'\n",
        "    elif 'director' in title:\n",
        "        return 'Director'\n",
        "    elif 'software' in title or 'developer' in title:\n",
        "        return 'Software Engineer'\n",
        "    else:\n",
        "        return 'Other'\n",
        "df['job_simplified'] = df['Job Title'].apply(simplify_title)"
      ],
      "metadata": {
        "id": "iAQdMOhbHHDt"
      },
      "execution_count": 98,
      "outputs": []
    },
    {
      "cell_type": "markdown",
      "source": [
        "**Identify seniority**"
      ],
      "metadata": {
        "id": "OKoKhDPYKhqF"
      }
    },
    {
      "cell_type": "code",
      "source": [
        "def seniority(title):\n",
        "    title = title.lower()\n",
        "    if 'senior' in title:\n",
        "        return 'Senior'\n",
        "    elif 'junior' in title or 'jr' in title:\n",
        "        return 'Junior'\n",
        "    elif 'lead' in title:\n",
        "        return 'Lead'\n",
        "    elif 'principal' in title:\n",
        "        return 'Principal'\n",
        "    else:\n",
        "        return 'Not Specified'\n",
        "df['seniority'] = df['Job Title'].apply(seniority)"
      ],
      "metadata": {
        "id": "wHQ6vlIJHKQZ"
      },
      "execution_count": 99,
      "outputs": []
    },
    {
      "cell_type": "markdown",
      "source": [
        "**Company age calculation**"
      ],
      "metadata": {
        "id": "S5OMfr_yKnf_"
      }
    },
    {
      "cell_type": "code",
      "source": [
        "df['company_age'] = 2024 - df['Founded']"
      ],
      "metadata": {
        "id": "X1SA9xLZHM-A"
      },
      "execution_count": 100,
      "outputs": []
    },
    {
      "cell_type": "markdown",
      "source": [
        "**Check if job location is same as HQ**"
      ],
      "metadata": {
        "id": "WL9CWIu6K0cV"
      }
    },
    {
      "cell_type": "code",
      "source": [
        "df['same_state_as_hq'] = df.apply(lambda x: 1 if x['Location'] == x['Headquarters'] else 0, axis=1)"
      ],
      "metadata": {
        "id": "rDhlWFjrHQ2N"
      },
      "execution_count": 101,
      "outputs": []
    },
    {
      "cell_type": "markdown",
      "source": [
        "**Revenue category simplification**"
      ],
      "metadata": {
        "id": "hQ8AuxXLK_Wy"
      }
    },
    {
      "cell_type": "code",
      "source": [
        "def simplify_revenue(revenue):\n",
        "    rev = str(revenue).lower()\n",
        "    if 'billion' in rev:\n",
        "        return 'Large'\n",
        "    elif 'million' in rev:\n",
        "        return 'Medium'\n",
        "    elif 'less than' in rev or 'unknown' in rev:\n",
        "        return 'Small'\n",
        "    else:\n",
        "        return 'Unknown'\n",
        "df['revenue_category'] = df['Revenue'].apply(simplify_revenue)"
      ],
      "metadata": {
        "id": "PbAYm4yxHVap"
      },
      "execution_count": 102,
      "outputs": []
    },
    {
      "cell_type": "markdown",
      "source": [
        "**Length of job description**"
      ],
      "metadata": {
        "id": "9kvaozJzLHrZ"
      }
    },
    {
      "cell_type": "code",
      "source": [
        "df['desc_len'] = df['Job Description'].apply(lambda x: len(str(x)))"
      ],
      "metadata": {
        "id": "myBCSj9eHZeL"
      },
      "execution_count": 103,
      "outputs": []
    },
    {
      "cell_type": "markdown",
      "source": [
        "**Number of competitors**"
      ],
      "metadata": {
        "id": "kKZf36j-LPGb"
      }
    },
    {
      "cell_type": "code",
      "source": [
        "df['num_comp'] = df['Competitors'].apply(lambda x: len(str(x).split(',')) if x != '-1' and pd.notnull(x) else 0)\n"
      ],
      "metadata": {
        "id": "-5l56P-BHdzb"
      },
      "execution_count": 104,
      "outputs": []
    },
    {
      "cell_type": "markdown",
      "source": [
        "**Replace unknown ownership types**"
      ],
      "metadata": {
        "id": "m2eGBbtdLXDq"
      }
    },
    {
      "cell_type": "code",
      "source": [
        "df['ownership_type'] = df['Type of ownership'].replace('-1', 'Unknown')\n"
      ],
      "metadata": {
        "id": "SzTHgmH7HiZU"
      },
      "execution_count": 105,
      "outputs": []
    },
    {
      "cell_type": "markdown",
      "source": [
        "**Extract job state from location**"
      ],
      "metadata": {
        "id": "-ddzU32HLeqC"
      }
    },
    {
      "cell_type": "code",
      "source": [
        "df['job_state'] = df['Location'].apply(lambda x: x.split(',')[-1].strip())\n"
      ],
      "metadata": {
        "id": "2194SdpnHlDk"
      },
      "execution_count": 106,
      "outputs": []
    },
    {
      "cell_type": "markdown",
      "source": [
        "**Visualizations**"
      ],
      "metadata": {
        "id": "JJX5I1YhLnKw"
      }
    },
    {
      "cell_type": "code",
      "source": [
        "plt.figure(figsize=(10, 6))\n",
        "sns.boxplot(x='job_simplified', y='avg_salary', data=df, palette='Set3')\n",
        "plt.xticks(rotation=45)\n",
        "plt.title(\"Average Salary by Job Role\")\n",
        "plt.tight_layout()\n",
        "plt.show()"
      ],
      "metadata": {
        "colab": {
          "base_uri": "https://localhost:8080/",
          "height": 697
        },
        "id": "_KOKu7PEHoSW",
        "outputId": "6e74fe1a-e9a5-4ab3-ad22-30715f6b4bd6"
      },
      "execution_count": 107,
      "outputs": [
        {
          "output_type": "stream",
          "name": "stderr",
          "text": [
            "<ipython-input-107-e1fd555f69c5>:2: FutureWarning: \n",
            "\n",
            "Passing `palette` without assigning `hue` is deprecated and will be removed in v0.14.0. Assign the `x` variable to `hue` and set `legend=False` for the same effect.\n",
            "\n",
            "  sns.boxplot(x='job_simplified', y='avg_salary', data=df, palette='Set3')\n"
          ]
        },
        {
          "output_type": "display_data",
          "data": {
            "text/plain": [
              "<Figure size 1000x600 with 1 Axes>"
            ],
            "image/png": "[encoded data removed]"
          },
          "metadata": {}
        }
      ]
    },
    {
      "cell_type": "code",
      "source": [
        "plt.figure(figsize=(8, 6))\n",
        "sns.barplot(x='seniority', y='avg_salary', data=df, palette='coolwarm')\n",
        "plt.title(\"Salary Comparison by Seniority Level\")\n",
        "plt.tight_layout()\n",
        "plt.show()\n"
      ],
      "metadata": {
        "colab": {
          "base_uri": "https://localhost:8080/",
          "height": 697
        },
        "id": "29OAQMC9Hs1N",
        "outputId": "b08f5255-b066-45c2-c14d-05debeb7c70e"
      },
      "execution_count": 108,
      "outputs": [
        {
          "output_type": "stream",
          "name": "stderr",
          "text": [
            "<ipython-input-108-c6d3044f051c>:2: FutureWarning: \n",
            "\n",
            "Passing `palette` without assigning `hue` is deprecated and will be removed in v0.14.0. Assign the `x` variable to `hue` and set `legend=False` for the same effect.\n",
            "\n",
            "  sns.barplot(x='seniority', y='avg_salary', data=df, palette='coolwarm')\n"
          ]
        },
        {
          "output_type": "display_data",
          "data": {
            "text/plain": [
              "<Figure size 800x600 with 1 Axes>"
            ],
            "image/png": "[encoded data removed]"
          },
          "metadata": {}
        }
      ]
    },
    {
      "cell_type": "code",
      "source": [
        "plt.figure(figsize=(6, 6))\n",
        "df['revenue_category'].value_counts().plot.pie(autopct='%1.1f%%', colors=sns.color_palette('pastel'))\n",
        "plt.title(\"Company Revenue Categories\")\n",
        "plt.ylabel('')\n",
        "plt.tight_layout()\n",
        "plt.show()"
      ],
      "metadata": {
        "colab": {
          "base_uri": "https://localhost:8080/",
          "height": 584
        },
        "id": "sGdz7xJPPxJM",
        "outputId": "bc62d0be-2e86-4a7c-80ac-2c9c3b555779"
      },
      "execution_count": 117,
      "outputs": [
        {
          "output_type": "display_data",
          "data": {
            "text/plain": [
              "<Figure size 600x600 with 1 Axes>"
            ],
            "image/png": "[encoded data removed]"
          },
          "metadata": {}
        }
      ]
    },
    {
      "cell_type": "code",
      "source": [
        "plt.figure(figsize=(8, 6))\n",
        "sns.heatmap(df[['avg_salary', 'Rating', 'company_age', 'desc_len', 'num_comp']].corr(), annot=True, cmap='RdBu_r', center=0)\n",
        "plt.title(\"Correlation Heatmap\")\n",
        "plt.tight_layout()\n",
        "plt.show()"
      ],
      "metadata": {
        "colab": {
          "base_uri": "https://localhost:8080/",
          "height": 607
        },
        "id": "-pOBHAKUHw5S",
        "outputId": "77123fba-c920-44bb-a5ed-edb3632f9def"
      },
      "execution_count": 109,
      "outputs": [
        {
          "output_type": "display_data",
          "data": {
            "text/plain": [
              "<Figure size 800x600 with 2 Axes>"
            ],
            "image/png": "[encoded data removed]"
          },
          "metadata": {}
        }
      ]
    },
    {
      "cell_type": "code",
      "source": [
        "plt.figure(figsize=(14, 6))\n",
        "sns.countplot(y='job_state', data=df, order=df['job_state'].value_counts().index, palette='magma')\n",
        "plt.title(\"Job Distribution by U.S. State\")\n",
        "plt.xlabel(\"Number of Job Postings\")\n",
        "plt.ylabel(\"State\")\n",
        "plt.tight_layout()\n",
        "plt.show()"
      ],
      "metadata": {
        "colab": {
          "base_uri": "https://localhost:8080/",
          "height": 659
        },
        "id": "cUEM9J-YH28d",
        "outputId": "b36e386a-30aa-4801-b3d1-bbdbb3b26800"
      },
      "execution_count": 111,
      "outputs": [
        {
          "output_type": "stream",
          "name": "stderr",
          "text": [
            "<ipython-input-111-de29d7d4382b>:2: FutureWarning: \n",
            "\n",
            "Passing `palette` without assigning `hue` is deprecated and will be removed in v0.14.0. Assign the `y` variable to `hue` and set `legend=False` for the same effect.\n",
            "\n",
            "  sns.countplot(y='job_state', data=df, order=df['job_state'].value_counts().index, palette='magma')\n"
          ]
        },
        {
          "output_type": "display_data",
          "data": {
            "text/plain": [
              "<Figure size 1400x600 with 1 Axes>"
            ],
            "image/png": "[encoded data removed]"
          },
          "metadata": {}
        }
      ]
    },
    {
      "cell_type": "markdown",
      "source": [
        "**Model Building**"
      ],
      "metadata": {
        "id": "1GQ_7m78MAGk"
      }
    },
    {
      "cell_type": "code",
      "source": [
        "features = ['avg_salary', 'Rating', 'company_age', 'desc_len', 'num_comp',\n",
        "            'job_simplified', 'seniority', 'revenue_category', 'ownership_type', 'job_state']\n",
        "df_model = df[features]"
      ],
      "metadata": {
        "id": "LAILJQpaH7zk"
      },
      "execution_count": 112,
      "outputs": []
    },
    {
      "cell_type": "markdown",
      "source": [
        "**One-hot encoding for categorical variables**"
      ],
      "metadata": {
        "id": "orwUJpgzMH9s"
      }
    },
    {
      "cell_type": "code",
      "source": [
        "df_model = pd.get_dummies(df_model, drop_first=True)"
      ],
      "metadata": {
        "id": "D1wsf78hMFEs"
      },
      "execution_count": 113,
      "outputs": []
    },
    {
      "cell_type": "markdown",
      "source": [
        "**Splitting dataset**"
      ],
      "metadata": {
        "id": "yF3WMK2_MQLK"
      }
    },
    {
      "cell_type": "code",
      "source": [
        "X = df_model.drop('avg_salary', axis=1)\n",
        "y = df_model['avg_salary']\n",
        "X_train, X_test, y_train, y_test = train_test_split(X, y, test_size=0.2, random_state=42)"
      ],
      "metadata": {
        "id": "qcY4s9snMM8D"
      },
      "execution_count": 114,
      "outputs": []
    },
    {
      "cell_type": "markdown",
      "source": [
        "**Random Forest Regression Model**"
      ],
      "metadata": {
        "id": "0fPXHHmGMq1L"
      }
    },
    {
      "cell_type": "code",
      "source": [
        "rf_model = RandomForestRegressor(n_estimators=100, random_state=42)\n",
        "rf_model.fit(X_train, y_train)\n",
        "y_pred = rf_model.predict(X_test)"
      ],
      "metadata": {
        "id": "l-NhTIWMMUgg"
      },
      "execution_count": 115,
      "outputs": []
    },
    {
      "cell_type": "markdown",
      "source": [
        "**Model Evaluation**"
      ],
      "metadata": {
        "id": "91dPMDWnNU0G"
      }
    },
    {
      "cell_type": "code",
      "source": [
        "print(\"\\n Model Evaluation\")\n",
        "print(\"R² Score:\", round(r2_score(y_test, y_pred), 3))\n",
        "print(\"RMSE:\", round(np.sqrt(mean_squared_error(y_test, y_pred)), 2))\n",
        "print(\"MAE:\", round(mean_absolute_error(y_test, y_pred), 2))"
      ],
      "metadata": {
        "colab": {
          "base_uri": "https://localhost:8080/"
        },
        "id": "zJmBcQrCMupo",
        "outputId": "5713283e-3da4-496f-e977-75b44358ca37"
      },
      "execution_count": 116,
      "outputs": [
        {
          "output_type": "stream",
          "name": "stdout",
          "text": [
            "\n",
            " Model Evaluation\n",
            "R² Score: 0.762\n",
            "RMSE: 19.73\n",
            "MAE: 12.57\n"
          ]
        }
      ]
    },
    {
      "cell_type": "code",
      "source": [],
      "metadata": {
        "id": "aAKECBjJNYol"
      },
      "execution_count": 116,
      "outputs": []
    }
  ]
}